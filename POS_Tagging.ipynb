{
  "nbformat": 4,
  "nbformat_minor": 0,
  "metadata": {
    "accelerator": "GPU",
    "colab": {
      "name": "POS_Tagging.ipynb",
      "provenance": [],
      "collapsed_sections": [],
      "toc_visible": true,
      "include_colab_link": true
    },
    "kernelspec": {
      "display_name": "Python 3",
      "name": "python3"
    }
  },
  "cells": [
    {
      "cell_type": "markdown",
      "metadata": {
        "id": "view-in-github",
        "colab_type": "text"
      },
      "source": [
        "<a href=\"https://colab.research.google.com/github/guyez/NLP/blob/main/POS_Tagging.ipynb\" target=\"_parent\"><img src=\"https://colab.research.google.com/assets/colab-badge.svg\" alt=\"Open In Colab\"/></a>"
      ]
    },
    {
      "cell_type": "markdown",
      "metadata": {
        "id": "0lLFOMAf5qfA"
      },
      "source": [
        "# Import Dependencies"
      ]
    },
    {
      "cell_type": "code",
      "metadata": {
        "id": "of3D92OeWV8_"
      },
      "source": [
        "# The libraries we will use are imported here, in case of runtime problems\n",
        "import os, shutil  #  file management\n",
        "import sys\n",
        "import pandas as pd  #  dataframe management\n",
        "import numpy as np  #  data manipulation\n",
        "import itertools\n",
        "import matplotlib.pyplot as plt\n",
        "\n",
        "import torch\n",
        "import torch.nn as nn\n",
        "import torch.optim as optim\n",
        "\n",
        "from torchtext import data\n",
        "from torchtext import datasets\n",
        "\n",
        "import random\n",
        "import time\n",
        "import torchtext\n",
        "\n",
        "import itertools"
      ],
      "execution_count": 428,
      "outputs": []
    },
    {
      "cell_type": "markdown",
      "metadata": {
        "id": "LPmh48qzlrzk"
      },
      "source": [
        "# Reproducibility\n",
        "\n",
        "\n",
        "\n",
        "\n"
      ]
    },
    {
      "cell_type": "code",
      "metadata": {
        "id": "gENJjhhcs768"
      },
      "source": [
        "def fix_random(seed):\n",
        "\n",
        "  np.random.seed(seed)\n",
        "  random.seed(seed)\n",
        "  torch.manual_seed(seed)\n",
        "  torch.cuda.manual_seed(seed)\n",
        "\n",
        "  torch.backends.cudnn.benchmark = False\n",
        "  torch.backends.cudnn.deterministic = True"
      ],
      "execution_count": 429,
      "outputs": []
    },
    {
      "cell_type": "code",
      "metadata": {
        "id": "F9uG9WFsN6-S"
      },
      "source": [
        "fix_random(seed=42)"
      ],
      "execution_count": 430,
      "outputs": []
    },
    {
      "cell_type": "markdown",
      "metadata": {
        "id": "aJbkbcfoyPFY"
      },
      "source": [
        "# Runtime Settings\n",
        "\n",
        "Here we set the `device`, which is used to place tensors on our GPU, if we have one."
      ]
    },
    {
      "cell_type": "code",
      "metadata": {
        "id": "ib8_3-Scxvk8"
      },
      "source": [
        "device = torch.device(\"cuda\" if torch.cuda.is_available() else \"cpu\")"
      ],
      "execution_count": 431,
      "outputs": []
    },
    {
      "cell_type": "markdown",
      "metadata": {
        "id": "pPq6sBDK6Ndt"
      },
      "source": [
        "If no GPU is available, you should change the Runtime settings. "
      ]
    },
    {
      "cell_type": "code",
      "metadata": {
        "colab": {
          "base_uri": "https://localhost:8080/"
        },
        "id": "I8YXWMiA7fVB",
        "outputId": "90054ae7-463f-4e27-8dbb-e7af3741894e"
      },
      "source": [
        "!nvidia-smi"
      ],
      "execution_count": 432,
      "outputs": [
        {
          "output_type": "stream",
          "text": [
            "Sat Dec  5 08:38:51 2020       \n",
            "+-----------------------------------------------------------------------------+\n",
            "| NVIDIA-SMI 455.45.01    Driver Version: 418.67       CUDA Version: 10.1     |\n",
            "|-------------------------------+----------------------+----------------------+\n",
            "| GPU  Name        Persistence-M| Bus-Id        Disp.A | Volatile Uncorr. ECC |\n",
            "| Fan  Temp  Perf  Pwr:Usage/Cap|         Memory-Usage | GPU-Util  Compute M. |\n",
            "|                               |                      |               MIG M. |\n",
            "|===============================+======================+======================|\n",
            "|   0  Tesla T4            Off  | 00000000:00:04.0 Off |                    0 |\n",
            "| N/A   77C    P0    33W /  70W |   1641MiB / 15079MiB |      0%      Default |\n",
            "|                               |                      |                 ERR! |\n",
            "+-------------------------------+----------------------+----------------------+\n",
            "                                                                               \n",
            "+-----------------------------------------------------------------------------+\n",
            "| Processes:                                                                  |\n",
            "|  GPU   GI   CI        PID   Type   Process name                  GPU Memory |\n",
            "|        ID   ID                                                   Usage      |\n",
            "|=============================================================================|\n",
            "|  No running processes found                                                 |\n",
            "+-----------------------------------------------------------------------------+\n"
          ],
          "name": "stdout"
        }
      ]
    },
    {
      "cell_type": "markdown",
      "metadata": {
        "id": "jBULh8GLZE08"
      },
      "source": [
        "# Get the Data"
      ]
    },
    {
      "cell_type": "code",
      "metadata": {
        "colab": {
          "base_uri": "https://localhost:8080/"
        },
        "id": "aLNJIfZg4_d9",
        "outputId": "197333f6-7beb-44cd-df02-233ba69b947d"
      },
      "source": [
        "import urllib.request  #  download files\n",
        "import zipfile  #  unzip files\n",
        "\n",
        "# We start by downloading the dataset and extract it to a folder\n",
        "\n",
        "dataset_folder = os.path.join(os.getcwd(), \"Dataset\")\n",
        "\n",
        "if not os.path.exists(dataset_folder):\n",
        "    os.makedirs(dataset_folder)\n",
        "\n",
        "url = \"https://raw.githubusercontent.com/nltk/nltk_data/gh-pages/packages/corpora/dependency_treebank.zip\"\n",
        "\n",
        "dataset_path = os.path.join(dataset_folder, \"dependency_treebank.zip\")\n",
        "\n",
        "if not os.path.exists(dataset_path):\n",
        "    urllib.request.urlretrieve(url, dataset_path)\n",
        "    print(\"Successful download\")\n",
        "\n",
        "with zipfile.ZipFile(dataset_path,\"r\") as zip_ref:\n",
        "    zip_ref.extractall(\"Dataset\")\n",
        "\n",
        "print(\"Successful extraction\")"
      ],
      "execution_count": 433,
      "outputs": [
        {
          "output_type": "stream",
          "text": [
            "Successful extraction\n"
          ],
          "name": "stdout"
        }
      ]
    },
    {
      "cell_type": "code",
      "metadata": {
        "id": "B9Wrys7yIfVf"
      },
      "source": [
        "# we have modified the class SequenceTaggingDataset from the pytorch module torchtext in order to\n",
        "# encode the dataset in a more comfortable way to use\n",
        "\n",
        "class SequenceTaggingDataset(data.Dataset):\n",
        "  @staticmethod\n",
        "  def sort_key(example):\n",
        "    for attr in dir(example):\n",
        "      if not callable(getattr(example, attr)) and \\\n",
        "              not attr.startswith(\"__\"):\n",
        "        return len(getattr(example, attr))\n",
        "    return 0\n",
        "\n",
        "  def __init__(self, path, fields, split, encoding=\"utf-8\", separator=\"\\t\", **kwargs):\n",
        "    examples = []\n",
        "    columns = []\n",
        "\n",
        "    # split the dataset in training, validation and test set as required\n",
        "    if split.strip().lower() == \"train\":\n",
        "      file_range = range(1,101)\n",
        "    elif split.strip().lower() == \"val\":\n",
        "      file_range =  range(101,151)\n",
        "    elif split.strip().lower() == \"test\":\n",
        "      file_range = range(151,200)\n",
        "    elif split.strip().lower() == \"full\":\n",
        "       file_range = range(1,200)\n",
        "    else:\n",
        "      raise AttributeError(\"Unsupported split! Available ones: train, val, test, full\")\n",
        "\n",
        "    # for each document we extract the text and the corresponding tags\n",
        "    for filename in os.listdir(path):\n",
        "      if int(filename[4:8]) in file_range:\n",
        "        file_path = os.path.join(path, filename)\n",
        "\n",
        "        with open(file_path, encoding=encoding) as input_file:\n",
        "            for line in input_file:\n",
        "              line = line.strip()\n",
        "\n",
        "              # don't consider the empty lines\n",
        "              if line != \"\": \n",
        "                \n",
        "                for i, column in enumerate(line.split(separator)):\n",
        "                  if len(columns) < i+1 :\n",
        "                    columns.append([])\n",
        "                  columns[i].append(column)                \n",
        "          \n",
        "            if columns:\n",
        "              examples.append(data.Example.fromlist(columns, fields))\n",
        "              columns = []\n",
        "        super(SequenceTaggingDataset, self).__init__(examples, fields, **kwargs)"
      ],
      "execution_count": 434,
      "outputs": []
    },
    {
      "cell_type": "markdown",
      "metadata": {
        "id": "w0cIJX5HMnz5"
      },
      "source": [
        "One of the key parts of TorchText is the `Field`. The `Field` handles how your dataset is processed.\n",
        "\n",
        "The `TEXT` fields handle how the text is dealt with. By setting `lower = True` we lowercase all the text.\n",
        "\n",
        "In the `TB_TAGS` field we remove the initialization of a default unknown token by setting `unk_token = None`\n"
      ]
    },
    {
      "cell_type": "code",
      "metadata": {
        "id": "egzNryV8EB8r"
      },
      "source": [
        "TEXT = data.Field(lower = True)\n",
        "TB_TAGS = data.Field(unk_token = None)\n",
        "\n",
        "# We then define fields, which handles passing our fields to the dataset\n",
        "fields = ((\"words\", TEXT), (\"tags\", TB_TAGS))\n",
        "\n",
        "dataset_path = \"Dataset/dependency_treebank\"\n",
        "\n",
        "#split dataset in train, validation and test\n",
        "full_data = SequenceTaggingDataset(dataset_path, fields, split = \"full\")\n",
        "train_data = SequenceTaggingDataset(dataset_path, fields, split = \"train\")\n",
        "val_data = SequenceTaggingDataset(dataset_path, fields, split = \"val\")\n",
        "test_data = SequenceTaggingDataset(dataset_path, fields, split = \"test\")\n"
      ],
      "execution_count": 435,
      "outputs": []
    },
    {
      "cell_type": "markdown",
      "metadata": {
        "id": "iK13mzHN_uIg"
      },
      "source": [
        "## Visualize the Data"
      ]
    },
    {
      "cell_type": "code",
      "metadata": {
        "colab": {
          "base_uri": "https://localhost:8080/"
        },
        "id": "S0wjEYOMb9Ku",
        "outputId": "9c721644-95f4-44fb-b102-36f2d20fd147"
      },
      "source": [
        "print(\"Number of training examples: {}\".format(len(train_data)))\n",
        "print(\"Number of validation examples: {}\".format(len(val_data)))\n",
        "print(\"Number of testing examples: {}\".format(len(test_data)))"
      ],
      "execution_count": 436,
      "outputs": [
        {
          "output_type": "stream",
          "text": [
            "Number of training examples: 100\n",
            "Number of validation examples: 50\n",
            "Number of testing examples: 49\n"
          ],
          "name": "stdout"
        }
      ]
    },
    {
      "cell_type": "code",
      "metadata": {
        "colab": {
          "base_uri": "https://localhost:8080/"
        },
        "id": "QYV4joAGvBKs",
        "outputId": "6666cb70-99ea-4057-e452-37bfa106ac09"
      },
      "source": [
        "print(vars(train_data.examples[0]))"
      ],
      "execution_count": 437,
      "outputs": [
        {
          "output_type": "stream",
          "text": [
            "{'words': ['japanese', 'investors', 'nearly', 'single-handedly', 'bought', 'up', 'two', 'new', 'mortgage', 'securities-based', 'mutual', 'funds', 'totaling', '$', '701', 'million', ',', 'the', 'u.s.', 'federal', 'national', 'mortgage', 'association', 'said', '.', 'the', 'purchases', 'show', 'the', 'strong', 'interest', 'of', 'japanese', 'investors', 'in', 'u.s.', 'mortgage-based', 'instruments', ',', 'fannie', 'mae', \"'s\", 'chairman', ',', 'david', 'o.', 'maxwell', ',', 'said', 'at', 'a', 'news', 'conference', '.', 'he', 'said', 'more', 'than', '90', '%', 'of', 'the', 'funds', 'were', 'placed', 'with', 'japanese', 'institutional', 'investors', '.', 'the', 'rest', 'went', 'to', 'investors', 'from', 'france', 'and', 'hong', 'kong', '.', 'earlier', 'this', 'year', ',', 'japanese', 'investors', 'snapped', 'up', 'a', 'similar', ',', '$', '570', 'million', 'mortgage-backed', 'securities', 'mutual', 'fund', '.', 'that', 'fund', 'was', 'put', 'together', 'by', 'blackstone', 'group', ',', 'a', 'new', 'york', 'investment', 'bank', '.', 'the', 'latest', 'two', 'funds', 'were', 'assembled', 'jointly', 'by', 'goldman', ',', 'sachs', '&', 'co.', 'of', 'the', 'u.s.', 'and', 'japan', \"'s\", 'daiwa', 'securities', 'co', '.', 'the', 'new', ',', 'seven-year', 'funds', '--', 'one', 'offering', 'a', 'fixed-rate', 'return', 'and', 'the', 'other', 'with', 'a', 'floating-rate', 'return', 'linked', 'to', 'the', 'london', 'interbank', 'offered', 'rate', '--', 'offer', 'two', 'key', 'advantages', 'to', 'japanese', 'investors', '.', 'first', ',', 'they', 'are', 'designed', 'to', 'eliminate', 'the', 'risk', 'of', 'prepayment', '--', 'mortgage-backed', 'securities', 'can', 'be', 'retired', 'early', 'if', 'interest', 'rates', 'decline', ',', 'and', 'such', 'prepayment', 'forces', 'investors', 'to', 'redeploy', 'their', 'money', 'at', 'lower', 'rates', '.', 'second', ',', 'they', 'channel', 'monthly', 'mortgage', 'payments', 'into', 'semiannual', 'payments', ',', 'reducing', 'the', 'administrative', 'burden', 'on', 'investors', '.', 'by', 'addressing', 'those', 'problems', ',', 'mr.', 'maxwell', 'said', ',', 'the', 'new', 'funds', 'have', 'become', '``', 'extremely', 'attractive', 'to', 'japanese', 'and', 'other', 'investors', 'outside', 'the', 'u.s.', '.', \"''\", 'such', 'devices', 'have', 'boosted', 'japanese', 'investment', 'in', 'mortgage-backed', 'securities', 'to', 'more', 'than', '1', '%', 'of', 'the', '$', '900', 'billion', 'in', 'such', 'instruments', 'outstanding', ',', 'and', 'their', 'purchases', 'are', 'growing', 'at', 'a', 'rapid', 'rate', '.', 'they', 'also', 'have', 'become', 'large', 'purchasers', 'of', 'fannie', 'mae', \"'s\", 'corporate', 'debt', ',', 'buying', '$', '2.4', 'billion', 'in', 'fannie', 'mae', 'bonds', 'during', 'the', 'first', 'nine', 'months', 'of', 'the', 'year', ',', 'or', 'almost', 'a', 'tenth', 'of', 'the', 'total', 'amount', 'issued', '.'], 'tags': ['JJ', 'NNS', 'RB', 'RB', 'VBD', 'RP', 'CD', 'JJ', 'NN', 'JJ', 'JJ', 'NNS', 'VBG', '$', 'CD', 'CD', ',', 'DT', 'NNP', 'NNP', 'NNP', 'NNP', 'NNP', 'VBD', '.', 'DT', 'NNS', 'VBP', 'DT', 'JJ', 'NN', 'IN', 'JJ', 'NNS', 'IN', 'NNP', 'JJ', 'NNS', ',', 'NNP', 'NNP', 'POS', 'NN', ',', 'NNP', 'NNP', 'NNP', ',', 'VBD', 'IN', 'DT', 'NN', 'NN', '.', 'PRP', 'VBD', 'RBR', 'IN', 'CD', 'NN', 'IN', 'DT', 'NNS', 'VBD', 'VBN', 'IN', 'JJ', 'JJ', 'NNS', '.', 'DT', 'NN', 'VBD', 'TO', 'NNS', 'IN', 'NNP', 'CC', 'NNP', 'NNP', '.', 'JJR', 'DT', 'NN', ',', 'JJ', 'NNS', 'VBD', 'RP', 'DT', 'JJ', ',', '$', 'CD', 'CD', 'JJ', 'NNS', 'JJ', 'NN', '.', 'DT', 'NN', 'VBD', 'VBN', 'RP', 'IN', 'NNP', 'NNP', ',', 'DT', 'NNP', 'NNP', 'NN', 'NN', '.', 'DT', 'JJS', 'CD', 'NNS', 'VBD', 'VBN', 'RB', 'IN', 'NNP', ',', 'NNP', 'CC', 'NNP', 'IN', 'DT', 'NNP', 'CC', 'NNP', 'POS', 'NNP', 'NNPS', 'NNP', '.', 'DT', 'JJ', ',', 'JJ', 'NNS', ':', 'CD', 'VBG', 'DT', 'JJ', 'NN', 'CC', 'DT', 'JJ', 'IN', 'DT', 'JJ', 'NN', 'VBN', 'TO', 'DT', 'NNP', 'NN', 'VBD', 'NN', ':', 'VBP', 'CD', 'JJ', 'NNS', 'TO', 'JJ', 'NNS', '.', 'JJ', ',', 'PRP', 'VBP', 'VBN', 'TO', 'VB', 'DT', 'NN', 'IN', 'NN', ':', 'JJ', 'NNS', 'MD', 'VB', 'VBN', 'RB', 'IN', 'NN', 'NNS', 'VBP', ',', 'CC', 'JJ', 'NN', 'VBZ', 'NNS', 'TO', 'VB', 'PRP$', 'NN', 'IN', 'JJR', 'NNS', '.', 'JJ', ',', 'PRP', 'VBP', 'JJ', 'NN', 'NNS', 'IN', 'JJ', 'NNS', ',', 'VBG', 'DT', 'JJ', 'NN', 'IN', 'NNS', '.', 'IN', 'VBG', 'DT', 'NNS', ',', 'NNP', 'NNP', 'VBD', ',', 'DT', 'JJ', 'NNS', 'VBP', 'VBN', '``', 'RB', 'JJ', 'TO', 'JJ', 'CC', 'JJ', 'NNS', 'IN', 'DT', 'NNP', '.', \"''\", 'JJ', 'NNS', 'VBP', 'VBN', 'JJ', 'NN', 'IN', 'JJ', 'NNS', 'TO', 'RBR', 'IN', 'CD', 'NN', 'IN', 'DT', '$', 'CD', 'CD', 'IN', 'JJ', 'NNS', 'JJ', ',', 'CC', 'PRP$', 'NNS', 'VBP', 'VBG', 'IN', 'DT', 'JJ', 'NN', '.', 'PRP', 'RB', 'VBP', 'VBN', 'JJ', 'NNS', 'IN', 'NNP', 'NNP', 'POS', 'JJ', 'NN', ',', 'VBG', '$', 'CD', 'CD', 'IN', 'NNP', 'NNP', 'NNS', 'IN', 'DT', 'JJ', 'CD', 'NNS', 'IN', 'DT', 'NN', ',', 'CC', 'RB', 'DT', 'NN', 'IN', 'DT', 'JJ', 'NN', 'VBN', '.']}\n"
          ],
          "name": "stdout"
        }
      ]
    },
    {
      "cell_type": "code",
      "metadata": {
        "colab": {
          "base_uri": "https://localhost:8080/"
        },
        "id": "DfLTbCUgX7SR",
        "outputId": "6ddd48d0-84f1-49a8-88db-70ceeff4cbd3"
      },
      "source": [
        "print(vars(train_data.examples[0])[\"words\"])"
      ],
      "execution_count": 438,
      "outputs": [
        {
          "output_type": "stream",
          "text": [
            "['japanese', 'investors', 'nearly', 'single-handedly', 'bought', 'up', 'two', 'new', 'mortgage', 'securities-based', 'mutual', 'funds', 'totaling', '$', '701', 'million', ',', 'the', 'u.s.', 'federal', 'national', 'mortgage', 'association', 'said', '.', 'the', 'purchases', 'show', 'the', 'strong', 'interest', 'of', 'japanese', 'investors', 'in', 'u.s.', 'mortgage-based', 'instruments', ',', 'fannie', 'mae', \"'s\", 'chairman', ',', 'david', 'o.', 'maxwell', ',', 'said', 'at', 'a', 'news', 'conference', '.', 'he', 'said', 'more', 'than', '90', '%', 'of', 'the', 'funds', 'were', 'placed', 'with', 'japanese', 'institutional', 'investors', '.', 'the', 'rest', 'went', 'to', 'investors', 'from', 'france', 'and', 'hong', 'kong', '.', 'earlier', 'this', 'year', ',', 'japanese', 'investors', 'snapped', 'up', 'a', 'similar', ',', '$', '570', 'million', 'mortgage-backed', 'securities', 'mutual', 'fund', '.', 'that', 'fund', 'was', 'put', 'together', 'by', 'blackstone', 'group', ',', 'a', 'new', 'york', 'investment', 'bank', '.', 'the', 'latest', 'two', 'funds', 'were', 'assembled', 'jointly', 'by', 'goldman', ',', 'sachs', '&', 'co.', 'of', 'the', 'u.s.', 'and', 'japan', \"'s\", 'daiwa', 'securities', 'co', '.', 'the', 'new', ',', 'seven-year', 'funds', '--', 'one', 'offering', 'a', 'fixed-rate', 'return', 'and', 'the', 'other', 'with', 'a', 'floating-rate', 'return', 'linked', 'to', 'the', 'london', 'interbank', 'offered', 'rate', '--', 'offer', 'two', 'key', 'advantages', 'to', 'japanese', 'investors', '.', 'first', ',', 'they', 'are', 'designed', 'to', 'eliminate', 'the', 'risk', 'of', 'prepayment', '--', 'mortgage-backed', 'securities', 'can', 'be', 'retired', 'early', 'if', 'interest', 'rates', 'decline', ',', 'and', 'such', 'prepayment', 'forces', 'investors', 'to', 'redeploy', 'their', 'money', 'at', 'lower', 'rates', '.', 'second', ',', 'they', 'channel', 'monthly', 'mortgage', 'payments', 'into', 'semiannual', 'payments', ',', 'reducing', 'the', 'administrative', 'burden', 'on', 'investors', '.', 'by', 'addressing', 'those', 'problems', ',', 'mr.', 'maxwell', 'said', ',', 'the', 'new', 'funds', 'have', 'become', '``', 'extremely', 'attractive', 'to', 'japanese', 'and', 'other', 'investors', 'outside', 'the', 'u.s.', '.', \"''\", 'such', 'devices', 'have', 'boosted', 'japanese', 'investment', 'in', 'mortgage-backed', 'securities', 'to', 'more', 'than', '1', '%', 'of', 'the', '$', '900', 'billion', 'in', 'such', 'instruments', 'outstanding', ',', 'and', 'their', 'purchases', 'are', 'growing', 'at', 'a', 'rapid', 'rate', '.', 'they', 'also', 'have', 'become', 'large', 'purchasers', 'of', 'fannie', 'mae', \"'s\", 'corporate', 'debt', ',', 'buying', '$', '2.4', 'billion', 'in', 'fannie', 'mae', 'bonds', 'during', 'the', 'first', 'nine', 'months', 'of', 'the', 'year', ',', 'or', 'almost', 'a', 'tenth', 'of', 'the', 'total', 'amount', 'issued', '.']\n"
          ],
          "name": "stdout"
        }
      ]
    },
    {
      "cell_type": "code",
      "metadata": {
        "colab": {
          "base_uri": "https://localhost:8080/"
        },
        "id": "2dWJPLPIX7SU",
        "outputId": "46cfe343-54a7-4cd8-f615-6c1d6dfac39d"
      },
      "source": [
        "print(vars(train_data.examples[0])[\"tags\"])"
      ],
      "execution_count": 439,
      "outputs": [
        {
          "output_type": "stream",
          "text": [
            "['JJ', 'NNS', 'RB', 'RB', 'VBD', 'RP', 'CD', 'JJ', 'NN', 'JJ', 'JJ', 'NNS', 'VBG', '$', 'CD', 'CD', ',', 'DT', 'NNP', 'NNP', 'NNP', 'NNP', 'NNP', 'VBD', '.', 'DT', 'NNS', 'VBP', 'DT', 'JJ', 'NN', 'IN', 'JJ', 'NNS', 'IN', 'NNP', 'JJ', 'NNS', ',', 'NNP', 'NNP', 'POS', 'NN', ',', 'NNP', 'NNP', 'NNP', ',', 'VBD', 'IN', 'DT', 'NN', 'NN', '.', 'PRP', 'VBD', 'RBR', 'IN', 'CD', 'NN', 'IN', 'DT', 'NNS', 'VBD', 'VBN', 'IN', 'JJ', 'JJ', 'NNS', '.', 'DT', 'NN', 'VBD', 'TO', 'NNS', 'IN', 'NNP', 'CC', 'NNP', 'NNP', '.', 'JJR', 'DT', 'NN', ',', 'JJ', 'NNS', 'VBD', 'RP', 'DT', 'JJ', ',', '$', 'CD', 'CD', 'JJ', 'NNS', 'JJ', 'NN', '.', 'DT', 'NN', 'VBD', 'VBN', 'RP', 'IN', 'NNP', 'NNP', ',', 'DT', 'NNP', 'NNP', 'NN', 'NN', '.', 'DT', 'JJS', 'CD', 'NNS', 'VBD', 'VBN', 'RB', 'IN', 'NNP', ',', 'NNP', 'CC', 'NNP', 'IN', 'DT', 'NNP', 'CC', 'NNP', 'POS', 'NNP', 'NNPS', 'NNP', '.', 'DT', 'JJ', ',', 'JJ', 'NNS', ':', 'CD', 'VBG', 'DT', 'JJ', 'NN', 'CC', 'DT', 'JJ', 'IN', 'DT', 'JJ', 'NN', 'VBN', 'TO', 'DT', 'NNP', 'NN', 'VBD', 'NN', ':', 'VBP', 'CD', 'JJ', 'NNS', 'TO', 'JJ', 'NNS', '.', 'JJ', ',', 'PRP', 'VBP', 'VBN', 'TO', 'VB', 'DT', 'NN', 'IN', 'NN', ':', 'JJ', 'NNS', 'MD', 'VB', 'VBN', 'RB', 'IN', 'NN', 'NNS', 'VBP', ',', 'CC', 'JJ', 'NN', 'VBZ', 'NNS', 'TO', 'VB', 'PRP$', 'NN', 'IN', 'JJR', 'NNS', '.', 'JJ', ',', 'PRP', 'VBP', 'JJ', 'NN', 'NNS', 'IN', 'JJ', 'NNS', ',', 'VBG', 'DT', 'JJ', 'NN', 'IN', 'NNS', '.', 'IN', 'VBG', 'DT', 'NNS', ',', 'NNP', 'NNP', 'VBD', ',', 'DT', 'JJ', 'NNS', 'VBP', 'VBN', '``', 'RB', 'JJ', 'TO', 'JJ', 'CC', 'JJ', 'NNS', 'IN', 'DT', 'NNP', '.', \"''\", 'JJ', 'NNS', 'VBP', 'VBN', 'JJ', 'NN', 'IN', 'JJ', 'NNS', 'TO', 'RBR', 'IN', 'CD', 'NN', 'IN', 'DT', '$', 'CD', 'CD', 'IN', 'JJ', 'NNS', 'JJ', ',', 'CC', 'PRP$', 'NNS', 'VBP', 'VBG', 'IN', 'DT', 'JJ', 'NN', '.', 'PRP', 'RB', 'VBP', 'VBN', 'JJ', 'NNS', 'IN', 'NNP', 'NNP', 'POS', 'JJ', 'NN', ',', 'VBG', '$', 'CD', 'CD', 'IN', 'NNP', 'NNP', 'NNS', 'IN', 'DT', 'JJ', 'CD', 'NNS', 'IN', 'DT', 'NN', ',', 'CC', 'RB', 'DT', 'NN', 'IN', 'DT', 'JJ', 'NN', 'VBN', '.']\n"
          ],
          "name": "stdout"
        }
      ]
    },
    {
      "cell_type": "markdown",
      "metadata": {
        "id": "8H3pfwiy_4v_"
      },
      "source": [
        "## Build vocabularies\n",
        "\n",
        "We build the vocabularies by loading the `GloVe` pre-trained token embeddings."
      ]
    },
    {
      "cell_type": "code",
      "metadata": {
        "id": "k-kMNEw1X7Sb"
      },
      "source": [
        "# unk_init is used to initialize the token embeddings which are not in the pre-trained embedding vocabulary\n",
        "TEXT.build_vocab(full_data, \n",
        "                 vectors = \"glove.6B.100d\",\n",
        "                 unk_init = torch.Tensor.normal_)\n",
        "\n",
        "TB_TAGS.build_vocab(train_data)"
      ],
      "execution_count": 440,
      "outputs": []
    },
    {
      "cell_type": "code",
      "metadata": {
        "colab": {
          "base_uri": "https://localhost:8080/"
        },
        "id": "ZgD7G6CQX7Sf",
        "outputId": "16638263-1f16-4e7f-c32b-358e77b2dcd8"
      },
      "source": [
        "print(\"Unique tokens in the TEXT vocabulary: {}\".format(len(TEXT.vocab)))\n",
        "print(\"Unique tokens in TB_TAG vocabulary: {}\".format(len(TB_TAGS.vocab)))"
      ],
      "execution_count": 441,
      "outputs": [
        {
          "output_type": "stream",
          "text": [
            "Unique tokens in the TEXT vocabulary: 10949\n",
            "Unique tokens in TB_TAG vocabulary: 46\n"
          ],
          "name": "stdout"
        }
      ]
    },
    {
      "cell_type": "code",
      "metadata": {
        "colab": {
          "base_uri": "https://localhost:8080/"
        },
        "id": "8YLLug8qX7Sk",
        "outputId": "2b73f97c-e3ac-448b-ec84-18e5e2539498"
      },
      "source": [
        "print(TEXT.vocab.freqs.most_common(20))"
      ],
      "execution_count": 442,
      "outputs": [
        {
          "output_type": "stream",
          "text": [
            "[(',', 4885), ('the', 4764), ('.', 3828), ('of', 2325), ('to', 2182), ('a', 1988), ('in', 1769), ('and', 1556), (\"'s\", 865), ('for', 853), ('that', 848), ('$', 718), ('``', 702), (\"''\", 684), ('is', 672), ('said', 628), ('it', 577), ('on', 508), ('%', 446), ('by', 440)]\n"
          ],
          "name": "stdout"
        }
      ]
    },
    {
      "cell_type": "code",
      "metadata": {
        "id": "OH7cDjKGX7S4"
      },
      "source": [
        "def tag_percentage(tag_counts):\n",
        "  total_count = sum([count for tag, count in tag_counts])\n",
        "  tag_counts_percentages = [(tag, count, count/total_count) for tag, count in tag_counts] \n",
        "  return tag_counts_percentages"
      ],
      "execution_count": 443,
      "outputs": []
    },
    {
      "cell_type": "code",
      "metadata": {
        "colab": {
          "base_uri": "https://localhost:8080/"
        },
        "id": "Qe7SWY1QX7S7",
        "outputId": "f39e7e8a-9612-464b-c8b5-a69ed0e5f069"
      },
      "source": [
        "print(\"Tag\\t\\tCount\\t\\tPercentage\\n\")\n",
        "for tag, count, percent in tag_percentage(TB_TAGS.vocab.freqs.most_common()):\n",
        "  print(\"{}\\t\\t{}\\t\\t{:4.1f}%\".format(tag,count,percent*100))"
      ],
      "execution_count": 444,
      "outputs": [
        {
          "output_type": "stream",
          "text": [
            "Tag\t\tCount\t\tPercentage\n",
            "\n",
            "NN\t\t6270\t\t13.2%\n",
            "NNP\t\t5202\t\t11.0%\n",
            "IN\t\t4952\t\t10.5%\n",
            "DT\t\t4076\t\t 8.6%\n",
            "NNS\t\t3004\t\t 6.3%\n",
            "JJ\t\t2992\t\t 6.3%\n",
            ",\t\t2571\t\t 5.4%\n",
            ".\t\t1959\t\t 4.1%\n",
            "VBD\t\t1548\t\t 3.3%\n",
            "RB\t\t1490\t\t 3.1%\n",
            "CD\t\t1439\t\t 3.0%\n",
            "VB\t\t1195\t\t 2.5%\n",
            "CC\t\t1141\t\t 2.4%\n",
            "VBZ\t\t1133\t\t 2.4%\n",
            "VBN\t\t1031\t\t 2.2%\n",
            "TO\t\t1028\t\t 2.2%\n",
            "PRP\t\t954\t\t 2.0%\n",
            "VBG\t\t763\t\t 1.6%\n",
            "VBP\t\t727\t\t 1.5%\n",
            "MD\t\t413\t\t 0.9%\n",
            "PRP$\t\t409\t\t 0.9%\n",
            "``\t\t409\t\t 0.9%\n",
            "POS\t\t403\t\t 0.9%\n",
            "''\t\t399\t\t 0.8%\n",
            "$\t\t342\t\t 0.7%\n",
            ":\t\t293\t\t 0.6%\n",
            "WDT\t\t204\t\t 0.4%\n",
            "JJR\t\t157\t\t 0.3%\n",
            "WP\t\t141\t\t 0.3%\n",
            "RP\t\t140\t\t 0.3%\n",
            "NNPS\t\t95\t\t 0.2%\n",
            "JJS\t\t93\t\t 0.2%\n",
            "WRB\t\t92\t\t 0.2%\n",
            "RBR\t\t86\t\t 0.2%\n",
            "-RRB-\t\t55\t\t 0.1%\n",
            "-LRB-\t\t52\t\t 0.1%\n",
            "EX\t\t49\t\t 0.1%\n",
            "RBS\t\t19\t\t 0.0%\n",
            "LS\t\t10\t\t 0.0%\n",
            "PDT\t\t9\t\t 0.0%\n",
            "WP$\t\t6\t\t 0.0%\n",
            "FW\t\t2\t\t 0.0%\n",
            "SYM\t\t1\t\t 0.0%\n",
            "#\t\t1\t\t 0.0%\n",
            "UH\t\t1\t\t 0.0%\n"
          ],
          "name": "stdout"
        }
      ]
    },
    {
      "cell_type": "markdown",
      "metadata": {
        "id": "j0BVDKcZ13l8"
      },
      "source": [
        "## Create the `Iterators`\n",
        "\n",
        "The final part of data preparation is handling the iterator.\n",
        "We also set the batch size."
      ]
    },
    {
      "cell_type": "code",
      "metadata": {
        "id": "d6scFVuIX7TH"
      },
      "source": [
        "BATCH_SIZE = 4\n",
        "\n",
        "train_iterator, val_iterator = data.BucketIterator.splits(\n",
        "    (train_data, val_data), \n",
        "    batch_size = BATCH_SIZE,\n",
        "    device = device)\n"
      ],
      "execution_count": 445,
      "outputs": []
    },
    {
      "cell_type": "markdown",
      "metadata": {
        "id": "eTeXoJ7TAuii"
      },
      "source": [
        "# Baseline Model"
      ]
    },
    {
      "cell_type": "code",
      "metadata": {
        "id": "MvEIVdx0TGjW"
      },
      "source": [
        "# set models' parameters\n",
        "INPUT_DIM = len(TEXT.vocab)\n",
        "EMBEDDING_DIM = 100\n",
        "HIDDEN_DIM = 64\n",
        "OUTPUT_DIM = len(TB_TAGS.vocab)\n",
        "N_EPOCHS = 25\n",
        "\n",
        "# get the pad index from the text and tags vocabularies\n",
        "PAD_IDX = TEXT.vocab.stoi[TEXT.pad_token]\n",
        "TAG_PAD_IDX = TB_TAGS.vocab.stoi[TB_TAGS.pad_token]"
      ],
      "execution_count": 446,
      "outputs": []
    },
    {
      "cell_type": "code",
      "metadata": {
        "id": "9O3aaMFUX7TM"
      },
      "source": [
        "class BiLSTM(nn.Module):\n",
        "  def __init__(self, input_dim, embedding_dim, hidden_dim, output_dim, pad_idx):\n",
        "    \n",
        "    super().__init__()\n",
        "\n",
        "    # embedding layer\n",
        "    self.embedding = nn.Embedding(input_dim, embedding_dim, padding_idx = pad_idx)\n",
        "    self.embedding.requires_grad = False\n",
        "    \n",
        "    # bidirectional lstm layer\n",
        "    self.lstm = nn.LSTM(embedding_dim, hidden_dim, bidirectional = True)\n",
        "    \n",
        "    # dense layer\n",
        "    self.fc = nn.Linear(hidden_dim * 2, output_dim)\n",
        "    \n",
        "    # dropout\n",
        "    self.dropout = nn.Dropout(0.25)\n",
        "\n",
        "    \n",
        "  def forward(self, text):\n",
        "\n",
        "    embedded = self.dropout(self.embedding(text))\n",
        "    \n",
        "    # pass embeddings into LSTM\n",
        "    outputs, (hidden, cell) = self.lstm(embedded)\n",
        "    \n",
        "    # get the predictions of the tags\n",
        "    predictions = self.fc(outputs)\n",
        "    \n",
        "    return predictions"
      ],
      "execution_count": 447,
      "outputs": []
    },
    {
      "cell_type": "code",
      "metadata": {
        "id": "kQ70j8PsTDVN"
      },
      "source": [
        "# initialize the model\n",
        "bilstm = BiLSTM(INPUT_DIM, EMBEDDING_DIM, HIDDEN_DIM, OUTPUT_DIM, PAD_IDX)"
      ],
      "execution_count": 448,
      "outputs": []
    },
    {
      "cell_type": "markdown",
      "metadata": {
        "id": "vWFABwqHRbS-"
      },
      "source": [
        "We initialize the weights from a Normal Distribution"
      ]
    },
    {
      "cell_type": "code",
      "metadata": {
        "colab": {
          "base_uri": "https://localhost:8080/"
        },
        "id": "PXvBhRAYX7TZ",
        "outputId": "2a0e0bc8-8455-4cfa-c630-ba1c9f0b51f6"
      },
      "source": [
        "def init_weights(m):\n",
        "  for name, param in m.named_parameters():\n",
        "    nn.init.normal_(param.data, mean = 0, std = 0.1)\n",
        "        \n",
        "bilstm.apply(init_weights)"
      ],
      "execution_count": 449,
      "outputs": [
        {
          "output_type": "execute_result",
          "data": {
            "text/plain": [
              "BiLSTM(\n",
              "  (embedding): Embedding(10949, 100, padding_idx=1)\n",
              "  (lstm): LSTM(100, 64, bidirectional=True)\n",
              "  (fc): Linear(in_features=128, out_features=46, bias=True)\n",
              "  (dropout): Dropout(p=0.25, inplace=False)\n",
              ")"
            ]
          },
          "metadata": {
            "tags": []
          },
          "execution_count": 449
        }
      ]
    },
    {
      "cell_type": "code",
      "metadata": {
        "id": "j3PH2pCFJvJ8"
      },
      "source": [
        "pretrained_embeddings = TEXT.vocab.vectors\n",
        "\n",
        "# use the glove embedding as weights for the embedding layer\n",
        "bilstm.embedding.weight.data.copy_(pretrained_embeddings)\n",
        "\n",
        "# put to zero the embedding of the padding\n",
        "bilstm.embedding.weight.data[PAD_IDX] = torch.zeros(EMBEDDING_DIM)"
      ],
      "execution_count": 450,
      "outputs": []
    },
    {
      "cell_type": "code",
      "metadata": {
        "colab": {
          "base_uri": "https://localhost:8080/"
        },
        "id": "fnrzooM8X7Ti",
        "outputId": "25240a97-015e-4cc0-fa39-ff504ee597a2"
      },
      "source": [
        "import locale\n",
        "locale.setlocale(locale.LC_ALL, '')\n",
        "\n",
        "def count_parameters(model):\n",
        "  return sum(p.numel() for p in model.parameters() if p.requires_grad)\n",
        "\n",
        "print(\"The model has {:n} trainable parameters\".format(count_parameters(bilstm)))"
      ],
      "execution_count": 451,
      "outputs": [
        {
          "output_type": "stream",
          "text": [
            "The model has 1,185,826 trainable parameters\n"
          ],
          "name": "stdout"
        }
      ]
    },
    {
      "cell_type": "code",
      "metadata": {
        "id": "AxMEo-RpX7Tx"
      },
      "source": [
        "# define the optimizer\n",
        "optimizer = optim.Adam(bilstm.parameters(), lr=0.01)\n",
        "\n",
        "# by setting ignore_index = TAG_PAD_IDX we don't calculate the loss when the target is a <pad> token\n",
        "criterion = nn.CrossEntropyLoss(ignore_index = TAG_PAD_IDX)"
      ],
      "execution_count": 452,
      "outputs": []
    },
    {
      "cell_type": "code",
      "metadata": {
        "id": "2enHR8qJ8HyD"
      },
      "source": [
        "# we place our model and loss function on our GPU, if we have one\n",
        "bilstm = bilstm.to(device)\n",
        "criterion = criterion.to(device)"
      ],
      "execution_count": 453,
      "outputs": []
    },
    {
      "cell_type": "markdown",
      "metadata": {
        "id": "8A_vZja8mEEQ"
      },
      "source": [
        "## Train the Network"
      ]
    },
    {
      "cell_type": "markdown",
      "metadata": {
        "id": "_uakdjgRmK_2"
      },
      "source": [
        "### Visual Debug with Tensorboard\n"
      ]
    },
    {
      "cell_type": "code",
      "metadata": {
        "id": "4f1zWcmHJ3DS",
        "colab": {
          "base_uri": "https://localhost:8080/"
        },
        "outputId": "1b73a609-b373-4499-cd2b-f510cbadb918"
      },
      "source": [
        "%load_ext tensorboard"
      ],
      "execution_count": 454,
      "outputs": [
        {
          "output_type": "stream",
          "text": [
            "The tensorboard extension is already loaded. To reload it, use:\n",
            "  %reload_ext tensorboard\n"
          ],
          "name": "stdout"
        }
      ]
    },
    {
      "cell_type": "code",
      "metadata": {
        "id": "XqlHRs8I0KUw"
      },
      "source": [
        "from torch.utils.tensorboard import SummaryWriter"
      ],
      "execution_count": 455,
      "outputs": []
    },
    {
      "cell_type": "markdown",
      "metadata": {
        "id": "lQ3dVqHzuP76"
      },
      "source": [
        "###Train"
      ]
    },
    {
      "cell_type": "markdown",
      "metadata": {
        "id": "c6-QvhQbTkDV"
      },
      "source": [
        "To have a better idea of the performance of the model, we compute the accuracy by not considering the pad token "
      ]
    },
    {
      "cell_type": "code",
      "metadata": {
        "id": "GXIF7V9oX7T7"
      },
      "source": [
        "def categorical_accuracy(preds, y, tag_pad_idx, crf = False):\n",
        "  \n",
        "  # don't consider the pad token\n",
        "  non_pad_elements = torch.nonzero(y != tag_pad_idx) \n",
        "  \n",
        "  # with crf we don't need to get the index of max probability, since the crf model returns it directly\n",
        "  if crf:\n",
        "    correct = preds[non_pad_elements].eq(y[non_pad_elements]) \n",
        "  else:\n",
        "    # get the index of the max probability\n",
        "    max_preds = preds.argmax(dim = 1, keepdim = True) \n",
        "    correct = max_preds[non_pad_elements].squeeze(1).eq(y[non_pad_elements]) \n",
        "\n",
        "  if torch.cuda.is_available():\n",
        "    return correct.sum() / torch.cuda.FloatTensor([y[non_pad_elements].shape[0]])\n",
        "  else:\n",
        "    return correct.sum() / torch.FloatTensor([y[non_pad_elements].shape[0]])"
      ],
      "execution_count": 456,
      "outputs": []
    },
    {
      "cell_type": "code",
      "metadata": {
        "id": "_QIS_W794dll"
      },
      "source": [
        "# we have defined this function to get the embedding from every batch of text\n",
        "def get_text_embedding(batch, text_field):\n",
        "  result =  torch.stack([torch.stack([text_field.vocab.vectors[word] for word in sequence]) for sequence in batch])\n",
        "  return result"
      ],
      "execution_count": 457,
      "outputs": []
    },
    {
      "cell_type": "code",
      "metadata": {
        "id": "3a2hxTjfX7T-"
      },
      "source": [
        "def train(writer, model, iterator, optimizer, criterion, tag_pad_idx, log_interval, epoch):\n",
        "  \n",
        "  epoch_loss = 0\n",
        "  epoch_acc = 0\n",
        "\n",
        "  samples_train = 0\n",
        "  num_batches = len(iterator)\n",
        "  \n",
        " \n",
        "  model.train()\n",
        "  \n",
        "  for idx_batch, batch in enumerate(iterator):\n",
        "    \n",
        "    text = batch.words\n",
        "    tags = batch.tags\n",
        "    \n",
        "    optimizer.zero_grad()\n",
        "    \n",
        "    predictions = model(text)  \n",
        "    \n",
        "    # as PyTorch loss functions cannot handle 3-dimensional predictions we reshape our predictions\n",
        "    predictions = predictions.view(-1, predictions.shape[-1])\n",
        "    tags = tags.view(-1)\n",
        "\n",
        "    loss = criterion(predictions, tags)\n",
        "    \n",
        "    samples_train += len(text) \n",
        "            \n",
        "    acc = categorical_accuracy(predictions, tags, tag_pad_idx)\n",
        "    \n",
        "    loss.backward()\n",
        "    \n",
        "    optimizer.step()\n",
        "\n",
        "    \n",
        "    epoch_loss += loss.item()\n",
        "    epoch_acc += acc.item()\n",
        "\n",
        "    # update the writer\n",
        "    if log_interval > 0:\n",
        "      if idx_batch % log_interval == 0:\n",
        "        running_loss = epoch_loss / samples_train\n",
        "        global_step = idx_batch + (epoch * num_batches) \n",
        "        writer.add_scalar(\"Metrics/Loss_Train_IT\", running_loss, global_step)\n",
        "      \n",
        "  return epoch_loss / len(iterator), epoch_acc / len(iterator)"
      ],
      "execution_count": 458,
      "outputs": []
    },
    {
      "cell_type": "markdown",
      "metadata": {
        "id": "LqVRMOaAuY3h"
      },
      "source": [
        "###Validate"
      ]
    },
    {
      "cell_type": "code",
      "metadata": {
        "id": "O3gw1r8GX7UB"
      },
      "source": [
        "def evaluate(model, iterator, criterion, tag_pad_idx):\n",
        "  \n",
        "  epoch_loss = 0\n",
        "  epoch_acc = 0\n",
        "  \n",
        "  model.eval()\n",
        "  \n",
        "  with torch.no_grad():\n",
        "\n",
        "    for batch in iterator:\n",
        "\n",
        "      text = batch.words\n",
        "      tags = batch.tags\n",
        "      \n",
        "      predictions = model(text)\n",
        "      \n",
        "      # as PyTorch loss functions cannot handle 3-dimensional predictions we reshape our predictions\n",
        "      predictions = predictions.view(-1, predictions.shape[-1])\n",
        "      tags = tags.view(-1)\n",
        "      \n",
        "      loss = criterion(predictions, tags)\n",
        "      \n",
        "      acc = categorical_accuracy(predictions, tags, tag_pad_idx)\n",
        "\n",
        "      epoch_loss += loss.item()\n",
        "      epoch_acc += acc.item()\n",
        "      \n",
        "  return epoch_loss / len(iterator), epoch_acc / len(iterator)"
      ],
      "execution_count": 459,
      "outputs": []
    },
    {
      "cell_type": "markdown",
      "metadata": {
        "id": "04-jpDwPuflH"
      },
      "source": [
        "###Training Loop"
      ]
    },
    {
      "cell_type": "code",
      "metadata": {
        "id": "mE3uoFSvX7UF"
      },
      "source": [
        "# function that returns the time in minutes and seconds needed to run an epoch\n",
        "def epoch_time(start_time, end_time):\n",
        "  elapsed_time = end_time - start_time\n",
        "  elapsed_mins = int(elapsed_time / 60)\n",
        "  elapsed_secs = int(elapsed_time - (elapsed_mins * 60))\n",
        "  return elapsed_mins, elapsed_secs"
      ],
      "execution_count": 460,
      "outputs": []
    },
    {
      "cell_type": "code",
      "metadata": {
        "id": "78BIXpSnX7UI"
      },
      "source": [
        "def training_loop(writer, model, N_EPOCHS, train_iterator, val_iterator, optimizer, criterion, tag_pad_idx, log_interval, crf = False):\n",
        "\n",
        "  best_val_loss = float('inf')\n",
        "\n",
        "  loop_start = time.time()\n",
        "\n",
        "  losses_values = []\n",
        "  train_acc_values = []\n",
        "  val_acc_values = []\n",
        "\n",
        "  for epoch in range(1, N_EPOCHS+1):\n",
        "\n",
        "    start_time = time.time()\n",
        "\n",
        "    # use specific training and evaluation functions for crf (train_crf and evaluate_crf defined later)\n",
        "    if crf:\n",
        "      train_loss, train_acc = train_crf(writer, model, train_iterator, optimizer, criterion, tag_pad_idx, log_interval, epoch)\n",
        "      val_loss, val_acc = evaluate_crf(model, val_iterator, criterion, tag_pad_idx)\n",
        "\n",
        "    else:\n",
        "      train_loss, train_acc = train(writer, model, train_iterator, optimizer, criterion, tag_pad_idx, log_interval, epoch)\n",
        "      val_loss, val_acc = evaluate(model, val_iterator, criterion, tag_pad_idx)\n",
        "    \n",
        "    end_time = time.time()\n",
        "\n",
        "    epoch_mins, epoch_secs = epoch_time(start_time, end_time)\n",
        "\n",
        "    losses_values.append(train_loss)\n",
        "    train_acc_values.append(train_acc)\n",
        "    val_acc_values.append(val_acc)\n",
        "\n",
        "    lr =  optimizer.param_groups[0]['lr']\n",
        "    \n",
        "    # save the model whenever we reach a better validation accuracy\n",
        "    if val_loss < best_val_loss:\n",
        "      best_val_loss = val_loss\n",
        "      torch.save(model.state_dict(), model.__class__.__name__ + '.pt')\n",
        "    \n",
        "\n",
        "    # Plot to tensorboard        \n",
        "    writer.add_scalar(\"Hyperparameters/Learning Rate\", lr, epoch)\n",
        "    writer.add_scalars(\"Metrics/Losses\", {\"Train\": train_loss, \"Val\": val_loss}, epoch)\n",
        "    writer.add_scalars(\"Metrics/Accuracy\", {\"Train\": train_acc, \"Val\": val_acc}, epoch)\n",
        "    writer.flush()\n",
        "\n",
        "    print()\n",
        "    print(f\"Epoch: {epoch:02} | Epoch Time: {epoch_mins}m {epoch_secs}s\")\n",
        "    print(f\"\\tTrain Loss: {train_loss:.3f} | Train Acc: {train_acc*100:.2f}%\")\n",
        "    print(f\"\\t Val. Loss: {val_loss:.3f} |  Val. Acc: {val_acc*100:.2f}%\")\n",
        "\n",
        "  loop_end = time.time()\n",
        "  time_loop = loop_end - loop_start\n",
        "\n",
        "  return {\"loss_values\": losses_values,\n",
        "        \"train_acc_values\": train_acc_values,\n",
        "        \"val_acc_values\": val_acc_values,\n",
        "        \"time\": time_loop}"
      ],
      "execution_count": 461,
      "outputs": []
    },
    {
      "cell_type": "markdown",
      "metadata": {
        "id": "WTPVY2rPuj5o"
      },
      "source": [
        "###Execute the loop"
      ]
    },
    {
      "cell_type": "code",
      "metadata": {
        "id": "ar3I92f4tlg-"
      },
      "source": [
        "# uncomment the line below to show tensorboard plots of the training\n",
        "# %tensorboard --logdir=\"logs/bilstm\""
      ],
      "execution_count": 462,
      "outputs": []
    },
    {
      "cell_type": "code",
      "metadata": {
        "colab": {
          "base_uri": "https://localhost:8080/"
        },
        "id": "yzLcfb-QKXjf",
        "outputId": "c771514b-19b5-4cad-c1f8-800d10f34236"
      },
      "source": [
        "log_interval = 20\n",
        "writer = torch.utils.tensorboard.writer.SummaryWriter(log_dir=os.path.join(\"logs\", \"bilstm\"))\n",
        "statistics = training_loop(writer, bilstm, N_EPOCHS,train_iterator,val_iterator,optimizer,criterion,TAG_PAD_IDX, log_interval)\n",
        "writer.close()"
      ],
      "execution_count": 463,
      "outputs": [
        {
          "output_type": "stream",
          "text": [
            "\n",
            "Epoch: 01 | Epoch Time: 0m 2s\n",
            "\tTrain Loss: 1.817 | Train Acc: 54.80%\n",
            "\t Val. Loss: 0.677 |  Val. Acc: 82.79%\n",
            "\n",
            "Epoch: 02 | Epoch Time: 0m 1s\n",
            "\tTrain Loss: 0.468 | Train Acc: 87.50%\n",
            "\t Val. Loss: 0.318 |  Val. Acc: 90.96%\n",
            "\n",
            "Epoch: 03 | Epoch Time: 0m 2s\n",
            "\tTrain Loss: 0.227 | Train Acc: 93.64%\n",
            "\t Val. Loss: 0.267 |  Val. Acc: 92.32%\n",
            "\n",
            "Epoch: 04 | Epoch Time: 0m 2s\n",
            "\tTrain Loss: 0.161 | Train Acc: 95.29%\n",
            "\t Val. Loss: 0.262 |  Val. Acc: 92.50%\n",
            "\n",
            "Epoch: 05 | Epoch Time: 0m 1s\n",
            "\tTrain Loss: 0.115 | Train Acc: 96.55%\n",
            "\t Val. Loss: 0.253 |  Val. Acc: 92.62%\n",
            "\n",
            "Epoch: 06 | Epoch Time: 0m 1s\n",
            "\tTrain Loss: 0.093 | Train Acc: 97.20%\n",
            "\t Val. Loss: 0.258 |  Val. Acc: 92.62%\n",
            "\n",
            "Epoch: 07 | Epoch Time: 0m 1s\n",
            "\tTrain Loss: 0.075 | Train Acc: 97.75%\n",
            "\t Val. Loss: 0.269 |  Val. Acc: 92.70%\n",
            "\n",
            "Epoch: 08 | Epoch Time: 0m 1s\n",
            "\tTrain Loss: 0.067 | Train Acc: 97.91%\n",
            "\t Val. Loss: 0.261 |  Val. Acc: 92.78%\n",
            "\n",
            "Epoch: 09 | Epoch Time: 0m 1s\n",
            "\tTrain Loss: 0.057 | Train Acc: 98.24%\n",
            "\t Val. Loss: 0.275 |  Val. Acc: 92.68%\n",
            "\n",
            "Epoch: 10 | Epoch Time: 0m 1s\n",
            "\tTrain Loss: 0.046 | Train Acc: 98.68%\n",
            "\t Val. Loss: 0.281 |  Val. Acc: 92.78%\n",
            "\n",
            "Epoch: 11 | Epoch Time: 0m 1s\n",
            "\tTrain Loss: 0.042 | Train Acc: 98.72%\n",
            "\t Val. Loss: 0.287 |  Val. Acc: 92.71%\n",
            "\n",
            "Epoch: 12 | Epoch Time: 0m 1s\n",
            "\tTrain Loss: 0.038 | Train Acc: 98.84%\n",
            "\t Val. Loss: 0.277 |  Val. Acc: 92.80%\n",
            "\n",
            "Epoch: 13 | Epoch Time: 0m 1s\n",
            "\tTrain Loss: 0.031 | Train Acc: 99.08%\n",
            "\t Val. Loss: 0.291 |  Val. Acc: 92.80%\n",
            "\n",
            "Epoch: 14 | Epoch Time: 0m 1s\n",
            "\tTrain Loss: 0.030 | Train Acc: 99.02%\n",
            "\t Val. Loss: 0.291 |  Val. Acc: 92.85%\n",
            "\n",
            "Epoch: 15 | Epoch Time: 0m 1s\n",
            "\tTrain Loss: 0.026 | Train Acc: 99.19%\n",
            "\t Val. Loss: 0.286 |  Val. Acc: 92.91%\n",
            "\n",
            "Epoch: 16 | Epoch Time: 0m 1s\n",
            "\tTrain Loss: 0.024 | Train Acc: 99.28%\n",
            "\t Val. Loss: 0.311 |  Val. Acc: 92.62%\n",
            "\n",
            "Epoch: 17 | Epoch Time: 0m 1s\n",
            "\tTrain Loss: 0.021 | Train Acc: 99.35%\n",
            "\t Val. Loss: 0.307 |  Val. Acc: 92.87%\n",
            "\n",
            "Epoch: 18 | Epoch Time: 0m 1s\n",
            "\tTrain Loss: 0.019 | Train Acc: 99.46%\n",
            "\t Val. Loss: 0.314 |  Val. Acc: 92.62%\n",
            "\n",
            "Epoch: 19 | Epoch Time: 0m 1s\n",
            "\tTrain Loss: 0.016 | Train Acc: 99.58%\n",
            "\t Val. Loss: 0.322 |  Val. Acc: 92.69%\n",
            "\n",
            "Epoch: 20 | Epoch Time: 0m 1s\n",
            "\tTrain Loss: 0.014 | Train Acc: 99.68%\n",
            "\t Val. Loss: 0.325 |  Val. Acc: 92.67%\n",
            "\n",
            "Epoch: 21 | Epoch Time: 0m 1s\n",
            "\tTrain Loss: 0.012 | Train Acc: 99.69%\n",
            "\t Val. Loss: 0.331 |  Val. Acc: 92.52%\n",
            "\n",
            "Epoch: 22 | Epoch Time: 0m 1s\n",
            "\tTrain Loss: 0.012 | Train Acc: 99.69%\n",
            "\t Val. Loss: 0.341 |  Val. Acc: 92.55%\n",
            "\n",
            "Epoch: 23 | Epoch Time: 0m 1s\n",
            "\tTrain Loss: 0.012 | Train Acc: 99.70%\n",
            "\t Val. Loss: 0.341 |  Val. Acc: 92.55%\n",
            "\n",
            "Epoch: 24 | Epoch Time: 0m 1s\n",
            "\tTrain Loss: 0.010 | Train Acc: 99.73%\n",
            "\t Val. Loss: 0.342 |  Val. Acc: 92.47%\n",
            "\n",
            "Epoch: 25 | Epoch Time: 0m 1s\n",
            "\tTrain Loss: 0.010 | Train Acc: 99.75%\n",
            "\t Val. Loss: 0.348 |  Val. Acc: 92.47%\n"
          ],
          "name": "stdout"
        }
      ]
    },
    {
      "cell_type": "code",
      "metadata": {
        "id": "k0sLA6hWv6SU",
        "colab": {
          "base_uri": "https://localhost:8080/"
        },
        "outputId": "dd59984f-454f-40ec-a499-2941ee19389c"
      },
      "source": [
        "best_epoch = np.argmax(statistics[\"val_acc_values\"]) + 1\n",
        "best_acc_val = statistics[\"val_acc_values\"][best_epoch - 1]\n",
        "print(\"Best val accuracy: {:.3f} epoch: {}.\".format(best_acc_val,best_epoch))"
      ],
      "execution_count": 464,
      "outputs": [
        {
          "output_type": "stream",
          "text": [
            "Best val accuracy: 0.929 epoch: 15.\n"
          ],
          "name": "stdout"
        }
      ]
    },
    {
      "cell_type": "markdown",
      "metadata": {
        "id": "XgG_Vt0L_RWc"
      },
      "source": [
        "#Modifications"
      ]
    },
    {
      "cell_type": "markdown",
      "metadata": {
        "id": "btDjQD8yDRLh"
      },
      "source": [
        "##GRU"
      ]
    },
    {
      "cell_type": "code",
      "metadata": {
        "id": "LBefTgeKZDbe"
      },
      "source": [
        "class GRU(nn.Module):\n",
        "\n",
        "  def __init__(self, input_dim, embedding_dim, hidden_dim, output_dim, pad_idx):\n",
        "    \n",
        "    super().__init__()\n",
        "\n",
        "    # embedding layer\n",
        "    self.embedding = nn.Embedding(input_dim, embedding_dim, padding_idx = pad_idx)\n",
        "    self.embedding.requires_grad = False\n",
        "            \n",
        "    # gru layer\n",
        "    self.gru = nn.GRU(embedding_dim, hidden_dim, bidirectional = True)\n",
        "    \n",
        "    # dense layer\n",
        "    self.fc = nn.Linear(hidden_dim * 2, output_dim)\n",
        "\n",
        "    # dropout\n",
        "    self.dropout = nn.Dropout(0.25)\n",
        "\n",
        "      \n",
        "  def forward(self, text):\n",
        "\n",
        "    embedded = self.dropout(self.embedding(text))\n",
        "\n",
        "    # pass embeddings into GRU  \n",
        "    outputs, hidden = self.gru(embedded)\n",
        "    \n",
        "    # get the predictions of the tags\n",
        "    predictions = self.fc(outputs)\n",
        "    \n",
        "    return predictions"
      ],
      "execution_count": 465,
      "outputs": []
    },
    {
      "cell_type": "code",
      "metadata": {
        "id": "QDxzR_8tZDbf",
        "colab": {
          "base_uri": "https://localhost:8080/"
        },
        "outputId": "a9d8c084-2ff3-41a4-c25e-fab71db77966"
      },
      "source": [
        "# initialize the model, the weights and define the optimizer\n",
        "\n",
        "gru = GRU(INPUT_DIM, EMBEDDING_DIM, HIDDEN_DIM, OUTPUT_DIM, PAD_IDX)\n",
        "\n",
        "gru.apply(init_weights)\n",
        "\n",
        "gru.embedding.weight.data.copy_(pretrained_embeddings)\n",
        "\n",
        "gru.embedding.weight.data[PAD_IDX] = torch.zeros(EMBEDDING_DIM)\n",
        "\n",
        "print(\"The model has {:n} trainable parameters\".format(count_parameters(gru)))\n",
        "\n",
        "optimizer = optim.Adam(gru.parameters(), lr=0.01)\n",
        "\n",
        "# place the model on the GPU, if we have one\n",
        "gru = gru.to(device)\n"
      ],
      "execution_count": 466,
      "outputs": [
        {
          "output_type": "stream",
          "text": [
            "The model has 1,164,578 trainable parameters\n"
          ],
          "name": "stdout"
        }
      ]
    },
    {
      "cell_type": "code",
      "metadata": {
        "id": "EF1vNLqDZDbg"
      },
      "source": [
        "# uncomment the line below to show tensorboard plots of the training\n",
        "# %tensorboard --logdir=\"logs/gru\""
      ],
      "execution_count": 467,
      "outputs": []
    },
    {
      "cell_type": "code",
      "metadata": {
        "id": "3EGy_WuqZDbg",
        "colab": {
          "base_uri": "https://localhost:8080/"
        },
        "outputId": "6d839dda-0779-4406-a7b0-a39e7757607f"
      },
      "source": [
        "log_interval = 20\n",
        "writer = torch.utils.tensorboard.writer.SummaryWriter(log_dir=os.path.join(\"logs\", \"gru\"))\n",
        "statistics = training_loop(writer, gru, N_EPOCHS,train_iterator,val_iterator,optimizer,criterion,TAG_PAD_IDX, log_interval)\n",
        "writer.close()"
      ],
      "execution_count": 468,
      "outputs": [
        {
          "output_type": "stream",
          "text": [
            "\n",
            "Epoch: 01 | Epoch Time: 0m 1s\n",
            "\tTrain Loss: 1.531 | Train Acc: 61.34%\n",
            "\t Val. Loss: 0.514 |  Val. Acc: 85.75%\n",
            "\n",
            "Epoch: 02 | Epoch Time: 0m 1s\n",
            "\tTrain Loss: 0.384 | Train Acc: 89.10%\n",
            "\t Val. Loss: 0.312 |  Val. Acc: 90.91%\n",
            "\n",
            "Epoch: 03 | Epoch Time: 0m 2s\n",
            "\tTrain Loss: 0.219 | Train Acc: 93.53%\n",
            "\t Val. Loss: 0.269 |  Val. Acc: 92.15%\n",
            "\n",
            "Epoch: 04 | Epoch Time: 0m 2s\n",
            "\tTrain Loss: 0.144 | Train Acc: 95.67%\n",
            "\t Val. Loss: 0.257 |  Val. Acc: 92.48%\n",
            "\n",
            "Epoch: 05 | Epoch Time: 0m 1s\n",
            "\tTrain Loss: 0.113 | Train Acc: 96.56%\n",
            "\t Val. Loss: 0.257 |  Val. Acc: 92.72%\n",
            "\n",
            "Epoch: 06 | Epoch Time: 0m 1s\n",
            "\tTrain Loss: 0.089 | Train Acc: 97.26%\n",
            "\t Val. Loss: 0.253 |  Val. Acc: 92.79%\n",
            "\n",
            "Epoch: 07 | Epoch Time: 0m 1s\n",
            "\tTrain Loss: 0.077 | Train Acc: 97.64%\n",
            "\t Val. Loss: 0.259 |  Val. Acc: 92.86%\n",
            "\n",
            "Epoch: 08 | Epoch Time: 0m 1s\n",
            "\tTrain Loss: 0.057 | Train Acc: 98.26%\n",
            "\t Val. Loss: 0.261 |  Val. Acc: 92.96%\n",
            "\n",
            "Epoch: 09 | Epoch Time: 0m 1s\n",
            "\tTrain Loss: 0.051 | Train Acc: 98.35%\n",
            "\t Val. Loss: 0.274 |  Val. Acc: 92.78%\n",
            "\n",
            "Epoch: 10 | Epoch Time: 0m 1s\n",
            "\tTrain Loss: 0.041 | Train Acc: 98.74%\n",
            "\t Val. Loss: 0.271 |  Val. Acc: 93.08%\n",
            "\n",
            "Epoch: 11 | Epoch Time: 0m 1s\n",
            "\tTrain Loss: 0.035 | Train Acc: 98.89%\n",
            "\t Val. Loss: 0.284 |  Val. Acc: 93.07%\n",
            "\n",
            "Epoch: 12 | Epoch Time: 0m 1s\n",
            "\tTrain Loss: 0.033 | Train Acc: 98.97%\n",
            "\t Val. Loss: 0.294 |  Val. Acc: 92.93%\n",
            "\n",
            "Epoch: 13 | Epoch Time: 0m 1s\n",
            "\tTrain Loss: 0.030 | Train Acc: 99.07%\n",
            "\t Val. Loss: 0.288 |  Val. Acc: 93.13%\n",
            "\n",
            "Epoch: 14 | Epoch Time: 0m 1s\n",
            "\tTrain Loss: 0.024 | Train Acc: 99.25%\n",
            "\t Val. Loss: 0.297 |  Val. Acc: 93.10%\n",
            "\n",
            "Epoch: 15 | Epoch Time: 0m 1s\n",
            "\tTrain Loss: 0.021 | Train Acc: 99.40%\n",
            "\t Val. Loss: 0.307 |  Val. Acc: 92.97%\n",
            "\n",
            "Epoch: 16 | Epoch Time: 0m 2s\n",
            "\tTrain Loss: 0.019 | Train Acc: 99.47%\n",
            "\t Val. Loss: 0.311 |  Val. Acc: 92.96%\n",
            "\n",
            "Epoch: 17 | Epoch Time: 0m 1s\n",
            "\tTrain Loss: 0.017 | Train Acc: 99.52%\n",
            "\t Val. Loss: 0.317 |  Val. Acc: 92.89%\n",
            "\n",
            "Epoch: 18 | Epoch Time: 0m 1s\n",
            "\tTrain Loss: 0.014 | Train Acc: 99.62%\n",
            "\t Val. Loss: 0.322 |  Val. Acc: 92.94%\n",
            "\n",
            "Epoch: 19 | Epoch Time: 0m 1s\n",
            "\tTrain Loss: 0.012 | Train Acc: 99.69%\n",
            "\t Val. Loss: 0.329 |  Val. Acc: 92.83%\n",
            "\n",
            "Epoch: 20 | Epoch Time: 0m 2s\n",
            "\tTrain Loss: 0.012 | Train Acc: 99.69%\n",
            "\t Val. Loss: 0.325 |  Val. Acc: 92.94%\n",
            "\n",
            "Epoch: 21 | Epoch Time: 0m 1s\n",
            "\tTrain Loss: 0.010 | Train Acc: 99.74%\n",
            "\t Val. Loss: 0.334 |  Val. Acc: 92.96%\n",
            "\n",
            "Epoch: 22 | Epoch Time: 0m 1s\n",
            "\tTrain Loss: 0.009 | Train Acc: 99.76%\n",
            "\t Val. Loss: 0.346 |  Val. Acc: 92.75%\n",
            "\n",
            "Epoch: 23 | Epoch Time: 0m 1s\n",
            "\tTrain Loss: 0.008 | Train Acc: 99.81%\n",
            "\t Val. Loss: 0.342 |  Val. Acc: 93.01%\n",
            "\n",
            "Epoch: 24 | Epoch Time: 0m 1s\n",
            "\tTrain Loss: 0.008 | Train Acc: 99.81%\n",
            "\t Val. Loss: 0.354 |  Val. Acc: 92.92%\n",
            "\n",
            "Epoch: 25 | Epoch Time: 0m 1s\n",
            "\tTrain Loss: 0.008 | Train Acc: 99.78%\n",
            "\t Val. Loss: 0.365 |  Val. Acc: 92.77%\n"
          ],
          "name": "stdout"
        }
      ]
    },
    {
      "cell_type": "code",
      "metadata": {
        "id": "-5y2Vie_ZDbg",
        "colab": {
          "base_uri": "https://localhost:8080/"
        },
        "outputId": "1c8b39cc-cc29-4b5b-af19-04d36a6f8366"
      },
      "source": [
        "best_epoch = np.argmax(statistics[\"val_acc_values\"]) + 1\n",
        "best_acc_val = statistics[\"val_acc_values\"][best_epoch - 1]\n",
        "print(\"Best val accuracy: {:.3f} epoch: {}.\".format(best_acc_val,best_epoch))"
      ],
      "execution_count": 469,
      "outputs": [
        {
          "output_type": "stream",
          "text": [
            "Best val accuracy: 0.931 epoch: 13.\n"
          ],
          "name": "stdout"
        }
      ]
    },
    {
      "cell_type": "markdown",
      "metadata": {
        "id": "1b1Gox_bDX7N"
      },
      "source": [
        "## 2 Stacked BiLSTM"
      ]
    },
    {
      "cell_type": "code",
      "metadata": {
        "id": "1LxfBpfnZjhS"
      },
      "source": [
        "class BiLSTM2(nn.Module):\n",
        "\n",
        "  def __init__(self, input_dim, embedding_dim, hidden_dim, output_dim, n_layers, pad_idx):\n",
        "      \n",
        "    super().__init__()\n",
        "\n",
        "    # embedding layer\n",
        "    self.embedding = nn.Embedding(input_dim, embedding_dim, padding_idx = pad_idx)\n",
        "    self.embedding.requires_grad = False\n",
        "    \n",
        "    # bidirectional lstm with 2 layers\n",
        "    self.lstm = nn.LSTM(embedding_dim, hidden_dim,  num_layers = n_layers,  bidirectional = True)\n",
        "    \n",
        "    # dense layer\n",
        "    self.fc = nn.Linear(hidden_dim * 2, output_dim)\n",
        "\n",
        "    # dropout\n",
        "    self.dropout = nn.Dropout(0.25)\n",
        "\n",
        "      \n",
        "  def forward(self, text):\n",
        "\n",
        "    embedded = self.dropout(self.embedding(text))\n",
        "    \n",
        "    # pass embeddings into LSTM  \n",
        "    outputs, (hidden, cell) = self.lstm(embedded)\n",
        "    \n",
        "    # get the predictions of the tags\n",
        "    predictions = self.fc(outputs)\n",
        "    \n",
        "    return predictions"
      ],
      "execution_count": 470,
      "outputs": []
    },
    {
      "cell_type": "code",
      "metadata": {
        "id": "RDa4Vn9RZjhS",
        "colab": {
          "base_uri": "https://localhost:8080/"
        },
        "outputId": "3e31a5ba-5a9d-4d43-cff6-df7f1d11196d"
      },
      "source": [
        "# define the number of bilstm layers\n",
        "N_LAYERS = 2\n",
        "\n",
        "# initialize the model, the weights and define the optimizer\n",
        "bilstm2 = BiLSTM2(INPUT_DIM, EMBEDDING_DIM, HIDDEN_DIM, OUTPUT_DIM, N_LAYERS, PAD_IDX)\n",
        "\n",
        "bilstm2.apply(init_weights)\n",
        "\n",
        "bilstm2.embedding.weight.data.copy_(pretrained_embeddings)\n",
        "\n",
        "bilstm2.embedding.weight.data[PAD_IDX] = torch.zeros(EMBEDDING_DIM)\n",
        "\n",
        "print(\"The model has {:n} trainable parameters\".format(count_parameters(bilstm2)))\n",
        "\n",
        "optimizer = optim.Adam(bilstm2.parameters(), lr = 0.01)\n",
        "\n",
        "# place model on the GPU, if we have one\n",
        "bilstm2 = bilstm2.to(device)\n"
      ],
      "execution_count": 471,
      "outputs": [
        {
          "output_type": "stream",
          "text": [
            "The model has 1,285,154 trainable parameters\n"
          ],
          "name": "stdout"
        }
      ]
    },
    {
      "cell_type": "code",
      "metadata": {
        "id": "fEfLyq68ZjhT"
      },
      "source": [
        "# uncomment the line below to show tensorboard plots of the training\n",
        "# %tensorboard --logdir=\"logs/bilstm2\""
      ],
      "execution_count": 472,
      "outputs": []
    },
    {
      "cell_type": "code",
      "metadata": {
        "id": "KtdtfTHrZjhT",
        "colab": {
          "base_uri": "https://localhost:8080/"
        },
        "outputId": "49e17f19-2bef-45a1-ff26-eb0c292ff4b9"
      },
      "source": [
        "log_interval = 20\n",
        "writer = torch.utils.tensorboard.writer.SummaryWriter(log_dir=os.path.join(\"logs\", \"bilstm2\"))\n",
        "statistics = training_loop(writer, bilstm2, N_EPOCHS,train_iterator,val_iterator,optimizer,criterion,TAG_PAD_IDX, log_interval)\n",
        "writer.close()"
      ],
      "execution_count": 473,
      "outputs": [
        {
          "output_type": "stream",
          "text": [
            "\n",
            "Epoch: 01 | Epoch Time: 0m 3s\n",
            "\tTrain Loss: 2.191 | Train Acc: 41.69%\n",
            "\t Val. Loss: 0.927 |  Val. Acc: 76.15%\n",
            "\n",
            "Epoch: 02 | Epoch Time: 0m 3s\n",
            "\tTrain Loss: 0.581 | Train Acc: 84.74%\n",
            "\t Val. Loss: 0.367 |  Val. Acc: 89.92%\n",
            "\n",
            "Epoch: 03 | Epoch Time: 0m 3s\n",
            "\tTrain Loss: 0.265 | Train Acc: 92.70%\n",
            "\t Val. Loss: 0.299 |  Val. Acc: 91.69%\n",
            "\n",
            "Epoch: 04 | Epoch Time: 0m 3s\n",
            "\tTrain Loss: 0.170 | Train Acc: 95.17%\n",
            "\t Val. Loss: 0.268 |  Val. Acc: 92.46%\n",
            "\n",
            "Epoch: 05 | Epoch Time: 0m 3s\n",
            "\tTrain Loss: 0.121 | Train Acc: 96.54%\n",
            "\t Val. Loss: 0.264 |  Val. Acc: 92.66%\n",
            "\n",
            "Epoch: 06 | Epoch Time: 0m 3s\n",
            "\tTrain Loss: 0.105 | Train Acc: 96.85%\n",
            "\t Val. Loss: 0.264 |  Val. Acc: 92.77%\n",
            "\n",
            "Epoch: 07 | Epoch Time: 0m 4s\n",
            "\tTrain Loss: 0.086 | Train Acc: 97.36%\n",
            "\t Val. Loss: 0.275 |  Val. Acc: 92.80%\n",
            "\n",
            "Epoch: 08 | Epoch Time: 0m 3s\n",
            "\tTrain Loss: 0.070 | Train Acc: 97.86%\n",
            "\t Val. Loss: 0.272 |  Val. Acc: 92.73%\n",
            "\n",
            "Epoch: 09 | Epoch Time: 0m 3s\n",
            "\tTrain Loss: 0.063 | Train Acc: 98.05%\n",
            "\t Val. Loss: 0.264 |  Val. Acc: 92.90%\n",
            "\n",
            "Epoch: 10 | Epoch Time: 0m 3s\n",
            "\tTrain Loss: 0.049 | Train Acc: 98.48%\n",
            "\t Val. Loss: 0.287 |  Val. Acc: 92.93%\n",
            "\n",
            "Epoch: 11 | Epoch Time: 0m 3s\n",
            "\tTrain Loss: 0.046 | Train Acc: 98.53%\n",
            "\t Val. Loss: 0.279 |  Val. Acc: 93.23%\n",
            "\n",
            "Epoch: 12 | Epoch Time: 0m 3s\n",
            "\tTrain Loss: 0.036 | Train Acc: 98.92%\n",
            "\t Val. Loss: 0.301 |  Val. Acc: 92.68%\n",
            "\n",
            "Epoch: 13 | Epoch Time: 0m 3s\n",
            "\tTrain Loss: 0.032 | Train Acc: 99.02%\n",
            "\t Val. Loss: 0.309 |  Val. Acc: 92.77%\n",
            "\n",
            "Epoch: 14 | Epoch Time: 0m 3s\n",
            "\tTrain Loss: 0.030 | Train Acc: 99.03%\n",
            "\t Val. Loss: 0.313 |  Val. Acc: 92.80%\n",
            "\n",
            "Epoch: 15 | Epoch Time: 0m 3s\n",
            "\tTrain Loss: 0.026 | Train Acc: 99.23%\n",
            "\t Val. Loss: 0.316 |  Val. Acc: 92.74%\n",
            "\n",
            "Epoch: 16 | Epoch Time: 0m 3s\n",
            "\tTrain Loss: 0.023 | Train Acc: 99.33%\n",
            "\t Val. Loss: 0.321 |  Val. Acc: 92.73%\n",
            "\n",
            "Epoch: 17 | Epoch Time: 0m 3s\n",
            "\tTrain Loss: 0.019 | Train Acc: 99.40%\n",
            "\t Val. Loss: 0.335 |  Val. Acc: 92.79%\n",
            "\n",
            "Epoch: 18 | Epoch Time: 0m 3s\n",
            "\tTrain Loss: 0.021 | Train Acc: 99.30%\n",
            "\t Val. Loss: 0.344 |  Val. Acc: 92.64%\n",
            "\n",
            "Epoch: 19 | Epoch Time: 0m 4s\n",
            "\tTrain Loss: 0.018 | Train Acc: 99.45%\n",
            "\t Val. Loss: 0.350 |  Val. Acc: 92.55%\n",
            "\n",
            "Epoch: 20 | Epoch Time: 0m 3s\n",
            "\tTrain Loss: 0.017 | Train Acc: 99.50%\n",
            "\t Val. Loss: 0.361 |  Val. Acc: 92.61%\n",
            "\n",
            "Epoch: 21 | Epoch Time: 0m 3s\n",
            "\tTrain Loss: 0.014 | Train Acc: 99.63%\n",
            "\t Val. Loss: 0.364 |  Val. Acc: 92.65%\n",
            "\n",
            "Epoch: 22 | Epoch Time: 0m 3s\n",
            "\tTrain Loss: 0.014 | Train Acc: 99.62%\n",
            "\t Val. Loss: 0.373 |  Val. Acc: 92.34%\n",
            "\n",
            "Epoch: 23 | Epoch Time: 0m 3s\n",
            "\tTrain Loss: 0.015 | Train Acc: 99.53%\n",
            "\t Val. Loss: 0.376 |  Val. Acc: 92.40%\n",
            "\n",
            "Epoch: 24 | Epoch Time: 0m 3s\n",
            "\tTrain Loss: 0.013 | Train Acc: 99.63%\n",
            "\t Val. Loss: 0.373 |  Val. Acc: 92.52%\n",
            "\n",
            "Epoch: 25 | Epoch Time: 0m 3s\n",
            "\tTrain Loss: 0.014 | Train Acc: 99.60%\n",
            "\t Val. Loss: 0.368 |  Val. Acc: 92.52%\n"
          ],
          "name": "stdout"
        }
      ]
    },
    {
      "cell_type": "code",
      "metadata": {
        "id": "EcMV7x7PZjhU",
        "colab": {
          "base_uri": "https://localhost:8080/"
        },
        "outputId": "60fb0989-7446-43c7-a408-de5b5ff7f2cd"
      },
      "source": [
        "best_epoch = np.argmax(statistics[\"val_acc_values\"]) + 1\n",
        "best_acc_val = statistics[\"val_acc_values\"][best_epoch - 1]\n",
        "print(\"Best val accuracy: {:.3f} epoch: {}.\".format(best_acc_val,best_epoch))"
      ],
      "execution_count": 474,
      "outputs": [
        {
          "output_type": "stream",
          "text": [
            "Best val accuracy: 0.932 epoch: 11.\n"
          ],
          "name": "stdout"
        }
      ]
    },
    {
      "cell_type": "markdown",
      "metadata": {
        "id": "v-fwrWInDfdR"
      },
      "source": [
        "##BiLSTM + CRF"
      ]
    },
    {
      "cell_type": "code",
      "metadata": {
        "id": "cWMJ5zdeabFj",
        "colab": {
          "base_uri": "https://localhost:8080/"
        },
        "outputId": "3ede95e1-086e-4c23-d6b8-a26641ec5d89"
      },
      "source": [
        "# install the pytorch CRF package\n",
        "!pip install pytorch-crf"
      ],
      "execution_count": 475,
      "outputs": [
        {
          "output_type": "stream",
          "text": [
            "Requirement already satisfied: pytorch-crf in /usr/local/lib/python3.6/dist-packages (0.7.2)\n"
          ],
          "name": "stdout"
        }
      ]
    },
    {
      "cell_type": "code",
      "metadata": {
        "id": "wderhbHb0amw"
      },
      "source": [
        "from torchcrf import CRF\n",
        "\n",
        "class BiLSTM_CRF(nn.Module):\n",
        "\n",
        "  def __init__(self, input_dim, embedding_dim, hidden_dim, output_dim, pad_idx):\n",
        "    super(BiLSTM_CRF, self).__init__()\n",
        "\n",
        "    # embedding layer\n",
        "    self.embedding = nn.Embedding(input_dim, embedding_dim, padding_idx = pad_idx)\n",
        "    self.embedding.requires_grad = False\n",
        "    \n",
        "    # bidirectional lstm layer\n",
        "    self.lstm = nn.LSTM(embedding_dim, hidden_dim, bidirectional = True)\n",
        "    \n",
        "    # crf layer\n",
        "    self.crf = CRF(output_dim, batch_first=True)\n",
        "\n",
        "    # dense layer\n",
        "    self.fc = nn.Linear(hidden_dim*2, output_dim)\n",
        "\n",
        "    # dropout\n",
        "    self.dropout = nn.Dropout(0.25)\n",
        "\n",
        "  def _get_lstm_feature(self, text):\n",
        "\n",
        "    embedded = self.dropout(self.embedding(text))\n",
        "    \n",
        "    # pass embeddings into LSTM\n",
        "    lstm_out, _ = self.lstm(embedded)\n",
        "\n",
        "    emission = self.fc(lstm_out)\n",
        "    return emission\n",
        "\n",
        "  # define the negative log likelihood loss for crf\n",
        "  def neg_log_likelihood(self, text, tags):\n",
        "    emission = self._get_lstm_feature(text)\n",
        "    loss = self.crf(emission, tags, reduction='mean')\n",
        "    return -loss\n",
        "\n",
        "\n",
        "  def forward(self, text):\n",
        "    \n",
        "    emission = self._get_lstm_feature(text)\n",
        "\n",
        "    # get the predictions of the tags\n",
        "    out = self.crf.decode(emission)\n",
        "    \n",
        "    return out"
      ],
      "execution_count": 476,
      "outputs": []
    },
    {
      "cell_type": "code",
      "metadata": {
        "id": "2rkWhf2R0ghl"
      },
      "source": [
        "def train_crf(writer, model, iterator, optimizer, criterion, tag_pad_idx, log_interval, epoch):\n",
        "  \n",
        "  epoch_loss = 0\n",
        "  epoch_acc = 0\n",
        "\n",
        "  samples_train = 0\n",
        "  num_batches = len(iterator)\n",
        "  \n",
        "  model.train()\n",
        "  \n",
        "  for idx_batch, batch in enumerate(iterator):\n",
        "    \n",
        "    text = batch.words\n",
        "    tags = batch.tags\n",
        "    \n",
        "    optimizer.zero_grad()\n",
        "    \n",
        "    predictions = model(text)  \n",
        "    \n",
        "    loss = criterion(text, tags)\n",
        "    \n",
        "    # transform the lists of predictions into tensors\n",
        "    if torch.cuda.is_available():\n",
        "      predictions =  torch.cuda.FloatTensor(predictions)\n",
        "    else:\n",
        "      predictions =  torch.FloatTensor(predictions)\n",
        "\n",
        "    predictions = predictions.view(-1)\n",
        "\n",
        "    tags = tags.view(-1)\n",
        "\n",
        "    samples_train += len(text) \n",
        "            \n",
        "    acc = categorical_accuracy(predictions, tags, tag_pad_idx, crf = True)\n",
        "    \n",
        "    loss.backward()\n",
        "    \n",
        "    optimizer.step()\n",
        "\n",
        "    epoch_loss += loss.item()\n",
        "    epoch_acc += acc.item()\n",
        "\n",
        "    if log_interval > 0:\n",
        "      if idx_batch % log_interval == 0:\n",
        "        running_loss = epoch_loss / samples_train\n",
        "        global_step = idx_batch + (epoch * num_batches) \n",
        "        writer.add_scalar(\"Metrics/Loss_Train_IT\", running_loss, global_step)\n",
        "    \n",
        "  return epoch_loss / len(iterator), epoch_acc / len(iterator)"
      ],
      "execution_count": 477,
      "outputs": []
    },
    {
      "cell_type": "code",
      "metadata": {
        "id": "0EDD9Rpf0jcJ"
      },
      "source": [
        "def evaluate_crf(model, iterator, criterion, tag_pad_idx):\n",
        "\n",
        "  epoch_loss = 0\n",
        "  epoch_acc = 0\n",
        "\n",
        "  model.eval()\n",
        "\n",
        "  with torch.no_grad():\n",
        "\n",
        "    for batch in iterator:\n",
        "\n",
        "      text = batch.words\n",
        "      tags = batch.tags\n",
        "\n",
        "      predictions = model(text)\n",
        "\n",
        "      loss = criterion(text, tags)\n",
        "      \n",
        "      # transform the lists of predictions into tensors\n",
        "      if torch.cuda.is_available():\n",
        "        predictions =  torch.cuda.FloatTensor(predictions)\n",
        "      else:\n",
        "        predictions =  torch.FloatTensor(predictions)\n",
        "\n",
        "      predictions = predictions.view(-1)\n",
        "      \n",
        "      tags = tags.view(-1)\n",
        "      \n",
        "      acc = categorical_accuracy(predictions, tags, tag_pad_idx, crf = True)\n",
        "\n",
        "      epoch_loss += loss.item()\n",
        "      epoch_acc += acc.item()\n",
        "    \n",
        "  return epoch_loss / len(iterator), epoch_acc / len(iterator)"
      ],
      "execution_count": 478,
      "outputs": []
    },
    {
      "cell_type": "code",
      "metadata": {
        "id": "30fS-1XXabFl",
        "colab": {
          "base_uri": "https://localhost:8080/"
        },
        "outputId": "38bb7cfb-5d8a-4296-e8dc-721541d552d0"
      },
      "source": [
        "# initialize the model, the weights and define the optimizer and the loss\n",
        "bilstm_crf = BiLSTM_CRF(INPUT_DIM, EMBEDDING_DIM, HIDDEN_DIM, OUTPUT_DIM, PAD_IDX)\n",
        "\n",
        "bilstm_crf.apply(init_weights)\n",
        "\n",
        "bilstm_crf.embedding.weight.data.copy_(pretrained_embeddings)\n",
        "\n",
        "bilstm_crf.embedding.weight.data[PAD_IDX] = torch.zeros(EMBEDDING_DIM)\n",
        "\n",
        "print(\"The model has {:n} trainable parameters\".format(count_parameters(bilstm_crf)))\n",
        "\n",
        "optimizer = optim.Adam(bilstm_crf.parameters(), lr = 0.01)\n",
        "\n",
        "criterion  = bilstm_crf.neg_log_likelihood\n",
        "\n",
        "# place model on the GPU, if we have one\n",
        "bilstm_crf = bilstm_crf.to(device)\n"
      ],
      "execution_count": 479,
      "outputs": [
        {
          "output_type": "stream",
          "text": [
            "The model has 1,188,034 trainable parameters\n"
          ],
          "name": "stdout"
        }
      ]
    },
    {
      "cell_type": "code",
      "metadata": {
        "id": "PQ08AmrNabFl"
      },
      "source": [
        "# uncomment the line below to show tensorboard plots of the training\n",
        "# %tensorboard --logdir=\"logs/bilstm_crf\""
      ],
      "execution_count": 480,
      "outputs": []
    },
    {
      "cell_type": "code",
      "metadata": {
        "id": "G01MX0pRabFl",
        "colab": {
          "base_uri": "https://localhost:8080/"
        },
        "outputId": "f43d93ed-eedc-409a-d3eb-a284e40ba4cb"
      },
      "source": [
        "log_interval = 20\n",
        "writer = torch.utils.tensorboard.writer.SummaryWriter(log_dir=os.path.join(\"logs\", \"bilstm_crf\"))\n",
        "statistics =  training_loop(writer, bilstm_crf, N_EPOCHS,train_iterator,val_iterator,optimizer,criterion,TAG_PAD_IDX, log_interval, crf = True)\n",
        "writer.close()"
      ],
      "execution_count": 481,
      "outputs": [
        {
          "output_type": "stream",
          "text": [
            "\n",
            "Epoch: 01 | Epoch Time: 0m 7s\n",
            "\tTrain Loss: 4.863 | Train Acc: 48.17%\n",
            "\t Val. Loss: 3.101 |  Val. Acc: 78.27%\n",
            "\n",
            "Epoch: 02 | Epoch Time: 0m 7s\n",
            "\tTrain Loss: 1.113 | Train Acc: 84.12%\n",
            "\t Val. Loss: 1.378 |  Val. Acc: 88.62%\n",
            "\n",
            "Epoch: 03 | Epoch Time: 0m 7s\n",
            "\tTrain Loss: 0.529 | Train Acc: 91.84%\n",
            "\t Val. Loss: 1.054 |  Val. Acc: 91.09%\n",
            "\n",
            "Epoch: 04 | Epoch Time: 0m 7s\n",
            "\tTrain Loss: 0.337 | Train Acc: 94.55%\n",
            "\t Val. Loss: 0.927 |  Val. Acc: 92.14%\n",
            "\n",
            "Epoch: 05 | Epoch Time: 0m 7s\n",
            "\tTrain Loss: 0.262 | Train Acc: 95.78%\n",
            "\t Val. Loss: 0.915 |  Val. Acc: 92.12%\n",
            "\n",
            "Epoch: 06 | Epoch Time: 0m 7s\n",
            "\tTrain Loss: 0.207 | Train Acc: 96.55%\n",
            "\t Val. Loss: 0.975 |  Val. Acc: 92.06%\n",
            "\n",
            "Epoch: 07 | Epoch Time: 0m 7s\n",
            "\tTrain Loss: 0.170 | Train Acc: 96.95%\n",
            "\t Val. Loss: 0.897 |  Val. Acc: 92.68%\n",
            "\n",
            "Epoch: 08 | Epoch Time: 0m 7s\n",
            "\tTrain Loss: 0.137 | Train Acc: 97.59%\n",
            "\t Val. Loss: 0.895 |  Val. Acc: 92.77%\n",
            "\n",
            "Epoch: 09 | Epoch Time: 0m 7s\n",
            "\tTrain Loss: 0.121 | Train Acc: 97.83%\n",
            "\t Val. Loss: 0.940 |  Val. Acc: 92.46%\n",
            "\n",
            "Epoch: 10 | Epoch Time: 0m 7s\n",
            "\tTrain Loss: 0.110 | Train Acc: 98.25%\n",
            "\t Val. Loss: 0.941 |  Val. Acc: 92.73%\n",
            "\n",
            "Epoch: 11 | Epoch Time: 0m 7s\n",
            "\tTrain Loss: 0.099 | Train Acc: 98.40%\n",
            "\t Val. Loss: 0.956 |  Val. Acc: 92.64%\n",
            "\n",
            "Epoch: 12 | Epoch Time: 0m 7s\n",
            "\tTrain Loss: 0.076 | Train Acc: 98.68%\n",
            "\t Val. Loss: 0.969 |  Val. Acc: 92.57%\n",
            "\n",
            "Epoch: 13 | Epoch Time: 0m 7s\n",
            "\tTrain Loss: 0.074 | Train Acc: 98.79%\n",
            "\t Val. Loss: 1.016 |  Val. Acc: 92.49%\n",
            "\n",
            "Epoch: 14 | Epoch Time: 0m 7s\n",
            "\tTrain Loss: 0.074 | Train Acc: 98.93%\n",
            "\t Val. Loss: 1.031 |  Val. Acc: 92.49%\n",
            "\n",
            "Epoch: 15 | Epoch Time: 0m 6s\n",
            "\tTrain Loss: 0.081 | Train Acc: 98.89%\n",
            "\t Val. Loss: 1.059 |  Val. Acc: 92.42%\n",
            "\n",
            "Epoch: 16 | Epoch Time: 0m 7s\n",
            "\tTrain Loss: 0.063 | Train Acc: 98.97%\n",
            "\t Val. Loss: 1.088 |  Val. Acc: 92.31%\n",
            "\n",
            "Epoch: 17 | Epoch Time: 0m 7s\n",
            "\tTrain Loss: 0.052 | Train Acc: 99.17%\n",
            "\t Val. Loss: 1.059 |  Val. Acc: 92.51%\n",
            "\n",
            "Epoch: 18 | Epoch Time: 0m 7s\n",
            "\tTrain Loss: 0.053 | Train Acc: 99.08%\n",
            "\t Val. Loss: 1.094 |  Val. Acc: 92.34%\n",
            "\n",
            "Epoch: 19 | Epoch Time: 0m 7s\n",
            "\tTrain Loss: 0.044 | Train Acc: 99.37%\n",
            "\t Val. Loss: 1.102 |  Val. Acc: 92.46%\n",
            "\n",
            "Epoch: 20 | Epoch Time: 0m 7s\n",
            "\tTrain Loss: 0.038 | Train Acc: 99.39%\n",
            "\t Val. Loss: 1.147 |  Val. Acc: 92.37%\n",
            "\n",
            "Epoch: 21 | Epoch Time: 0m 7s\n",
            "\tTrain Loss: 0.033 | Train Acc: 99.44%\n",
            "\t Val. Loss: 1.106 |  Val. Acc: 92.52%\n",
            "\n",
            "Epoch: 22 | Epoch Time: 0m 7s\n",
            "\tTrain Loss: 0.027 | Train Acc: 99.53%\n",
            "\t Val. Loss: 1.148 |  Val. Acc: 92.42%\n",
            "\n",
            "Epoch: 23 | Epoch Time: 0m 7s\n",
            "\tTrain Loss: 0.027 | Train Acc: 99.57%\n",
            "\t Val. Loss: 1.168 |  Val. Acc: 92.44%\n",
            "\n",
            "Epoch: 24 | Epoch Time: 0m 7s\n",
            "\tTrain Loss: 0.023 | Train Acc: 99.64%\n",
            "\t Val. Loss: 1.178 |  Val. Acc: 92.34%\n",
            "\n",
            "Epoch: 25 | Epoch Time: 0m 7s\n",
            "\tTrain Loss: 0.021 | Train Acc: 99.69%\n",
            "\t Val. Loss: 1.187 |  Val. Acc: 92.37%\n"
          ],
          "name": "stdout"
        }
      ]
    },
    {
      "cell_type": "code",
      "metadata": {
        "id": "mTWfmb81abFl",
        "colab": {
          "base_uri": "https://localhost:8080/"
        },
        "outputId": "941ebad1-3adc-4c01-9f5a-edffbbcd67b8"
      },
      "source": [
        "best_epoch = np.argmax(statistics[\"val_acc_values\"]) + 1\n",
        "best_acc_val = statistics[\"val_acc_values\"][best_epoch - 1]\n",
        "print(\"Best val accuracy: {:.3f} epoch: {}.\".format(best_acc_val,best_epoch))"
      ],
      "execution_count": 482,
      "outputs": [
        {
          "output_type": "stream",
          "text": [
            "Best val accuracy: 0.928 epoch: 8.\n"
          ],
          "name": "stdout"
        }
      ]
    },
    {
      "cell_type": "markdown",
      "metadata": {
        "id": "Xpiib3mpi0tz"
      },
      "source": [
        "#Evaluation"
      ]
    },
    {
      "cell_type": "markdown",
      "metadata": {
        "id": "UaRCnh46fF1H"
      },
      "source": [
        "In order to choose the best model we performed 10 different runs for each type of architecture, and, to compare them, we took the mean of their validations accuracies obtained on each run. For each run, and for each model, we used the same hyperparameters, in order to have a coherent comparison:\n",
        "\n",
        "- Batch size = 4\n",
        "- Number of epochs = 50\n",
        "- Embedding dimension = 100\n",
        "- Hidden dimension = 64\n",
        "- Learning rate = 0.01\n",
        "\n",
        "\n",
        "The 2 stacked BiLSTM model obtained, on average, the best validation accuracy."
      ]
    },
    {
      "cell_type": "markdown",
      "metadata": {
        "id": "GNrjKY0HzJsX"
      },
      "source": [
        "## Load the best model"
      ]
    },
    {
      "cell_type": "code",
      "metadata": {
        "id": "clB3p3WFzSxP",
        "colab": {
          "base_uri": "https://localhost:8080/"
        },
        "outputId": "d4f0ae52-7bfa-42c5-eb17-6b20344378c3"
      },
      "source": [
        "best_model =  BiLSTM2(INPUT_DIM, EMBEDDING_DIM, HIDDEN_DIM, OUTPUT_DIM, N_LAYERS, PAD_IDX)\n",
        "\n",
        "checkpoint = torch.load(\"BiLSTM2.pt\")\n",
        "best_model.load_state_dict(checkpoint)\n",
        "\n",
        "best_model = best_model.to(device)\n",
        "\n",
        "best_model.eval()"
      ],
      "execution_count": 483,
      "outputs": [
        {
          "output_type": "execute_result",
          "data": {
            "text/plain": [
              "BiLSTM2(\n",
              "  (embedding): Embedding(10949, 100, padding_idx=1)\n",
              "  (lstm): LSTM(100, 64, num_layers=2, bidirectional=True)\n",
              "  (fc): Linear(in_features=128, out_features=46, bias=True)\n",
              "  (dropout): Dropout(p=0.25, inplace=False)\n",
              ")"
            ]
          },
          "metadata": {
            "tags": []
          },
          "execution_count": 483
        }
      ]
    },
    {
      "cell_type": "markdown",
      "metadata": {
        "id": "fUjGRSQR1Si9"
      },
      "source": [
        "## Compute the F1 Macro Score"
      ]
    },
    {
      "cell_type": "code",
      "metadata": {
        "id": "kT4MgouTzzVc"
      },
      "source": [
        "BATCH_SIZE = len(test_data)\n",
        "\n",
        "# Create the test iterator with a single batch (the test set)\n",
        "test_iterator = data.BucketIterator.splits(\n",
        "    (test_data,), \n",
        "    batch_size = BATCH_SIZE,\n",
        "    device = device)[0]"
      ],
      "execution_count": 484,
      "outputs": []
    },
    {
      "cell_type": "code",
      "metadata": {
        "id": "rlviA33F0Pvj"
      },
      "source": [
        "# Get y_true, y_pred\n",
        "y_data = next(iter(test_iterator))\n",
        "y_true = y_data.tags\n",
        "y_true = y_true.view(-1)\n",
        "\n",
        "test_words =  y_data.words\n",
        "\n",
        "y_pred = best_model(test_words)\n",
        "y_pred = y_pred.view(-1, y_pred.shape[-1])\n",
        "y_pred = y_pred.argmax(dim = 1, keepdim = True)\n",
        "\n",
        "# convert tensors to numpy arrays in order to use them in the scikit learn functions\n",
        "if torch.cuda.is_available():\n",
        "  y_true = y_true.cpu().detach().numpy()\n",
        "  y_pred = y_pred.cpu().detach().numpy()\n",
        "else:\n",
        "  y_true = y_true.detach().numpy()\n",
        "  y_pred = y_pred.detach().numpy()"
      ],
      "execution_count": 485,
      "outputs": []
    },
    {
      "cell_type": "code",
      "metadata": {
        "id": "ujrdkSgzvRhN",
        "colab": {
          "base_uri": "https://localhost:8080/"
        },
        "outputId": "78d533c0-8a19-4dc7-b1e8-94b67904cced"
      },
      "source": [
        "# visualize the tags and their indexes\n",
        "TB_TAGS.vocab.stoi"
      ],
      "execution_count": 486,
      "outputs": [
        {
          "output_type": "execute_result",
          "data": {
            "text/plain": [
              "defaultdict(<function torchtext.vocab._default_unk_index>,\n",
              "            {'#': 43,\n",
              "             '$': 25,\n",
              "             \"''\": 24,\n",
              "             ',': 7,\n",
              "             '-LRB-': 36,\n",
              "             '-RRB-': 35,\n",
              "             '.': 8,\n",
              "             ':': 26,\n",
              "             '<pad>': 0,\n",
              "             'CC': 13,\n",
              "             'CD': 11,\n",
              "             'DT': 4,\n",
              "             'EX': 37,\n",
              "             'FW': 42,\n",
              "             'IN': 3,\n",
              "             'JJ': 6,\n",
              "             'JJR': 28,\n",
              "             'JJS': 32,\n",
              "             'LS': 39,\n",
              "             'MD': 20,\n",
              "             'NN': 1,\n",
              "             'NNP': 2,\n",
              "             'NNPS': 31,\n",
              "             'NNS': 5,\n",
              "             'PDT': 40,\n",
              "             'POS': 23,\n",
              "             'PRP': 17,\n",
              "             'PRP$': 21,\n",
              "             'RB': 10,\n",
              "             'RBR': 34,\n",
              "             'RBS': 38,\n",
              "             'RP': 30,\n",
              "             'SYM': 44,\n",
              "             'TO': 16,\n",
              "             'UH': 45,\n",
              "             'VB': 12,\n",
              "             'VBD': 9,\n",
              "             'VBG': 18,\n",
              "             'VBN': 15,\n",
              "             'VBP': 19,\n",
              "             'VBZ': 14,\n",
              "             'WDT': 27,\n",
              "             'WP': 29,\n",
              "             'WP$': 41,\n",
              "             'WRB': 33,\n",
              "             '``': 22})"
            ]
          },
          "metadata": {
            "tags": []
          },
          "execution_count": 486
        }
      ]
    },
    {
      "cell_type": "markdown",
      "metadata": {
        "id": "FWSKlf6z3uEu"
      },
      "source": [
        "To compute the f1 macro score, we have removed these tags:\n",
        "\n",
        "\n",
        "-   \\<pad\\>\n",
        "-   ,\n",
        "-   .\n",
        "-   ``\n",
        "-   ''\n",
        "-   $\n",
        "-   :\n",
        "-   -RRB-  (right round bracket)\n",
        "-   -LRB-  (left round bracket)\n",
        "-   #\n",
        "-   SYM    (symbols)\n",
        "\n",
        "\n",
        "\n"
      ]
    },
    {
      "cell_type": "code",
      "metadata": {
        "id": "C3mfJxg61p_C"
      },
      "source": [
        "# Get only the indexes of the relevant tags\n",
        "\n",
        "punct_index_list = [0, 7, 8, 22, 24, 25, 26, 35, 36, 43, 44]\n",
        "tags_index = [i for i in range(0,46) if i not in punct_index_list]"
      ],
      "execution_count": 487,
      "outputs": []
    },
    {
      "cell_type": "code",
      "metadata": {
        "id": "XLNW5J4_i95U",
        "colab": {
          "base_uri": "https://localhost:8080/"
        },
        "outputId": "5f9de496-1ec9-463b-fdff-b92bf4ad55ad"
      },
      "source": [
        "from sklearn.metrics import f1_score\n",
        "\n",
        "f1_macro_score = f1_score(y_true, y_pred, labels=tags_index, average=\"macro\", zero_division=0)\n",
        "print(\"F1 Macro score: {:.4f}\".format(f1_macro_score))"
      ],
      "execution_count": 488,
      "outputs": [
        {
          "output_type": "stream",
          "text": [
            "F1 Macro score: 0.7532\n"
          ],
          "name": "stdout"
        }
      ]
    },
    {
      "cell_type": "markdown",
      "metadata": {
        "id": "JtAcVilL-woV"
      },
      "source": [
        "#Error Analysis"
      ]
    },
    {
      "cell_type": "markdown",
      "metadata": {
        "id": "YSHmT0F18Hyd"
      },
      "source": [
        "## Inference\n",
        "\n",
        "Our F1 Macro score looks pretty good, but let's see our model tag some actual sentences."
      ]
    },
    {
      "cell_type": "markdown",
      "metadata": {
        "id": "uK1QsWk18UqQ"
      },
      "source": [
        "We define a `tag_sentence` function which returns the tokens and tags"
      ]
    },
    {
      "cell_type": "code",
      "metadata": {
        "id": "Ki2l83uZ8Hye"
      },
      "source": [
        "def tag_sentence(model, sentence, text_field, tag_field):\n",
        "  \n",
        "  # put the model into evaluation mode\n",
        "  model.eval()\n",
        "\n",
        "  #  tokenize the sentence\n",
        "  tokens = [token for token in sentence]\n",
        "\n",
        "  # lowercase the tokens if the Field did\n",
        "  if text_field.lower:\n",
        "    tokens = [t.lower() for t in tokens]\n",
        "\n",
        "  # numericalize the tokens using the vocabulary    \n",
        "  numericalized_tokens = [text_field.vocab.stoi[t] for t in tokens]\n",
        "  \n",
        "  # convert the numericalized tokens into a tensor and add a batch dimension\n",
        "  if torch.cuda.is_available():\n",
        "    token_tensor = torch.cuda.LongTensor(numericalized_tokens) \n",
        "  else:\n",
        "    token_tensor = torch.cuda.LongTensor(numericalized_tokens) \n",
        "\n",
        "  token_tensor = token_tensor.unsqueeze(-1)\n",
        "  \n",
        "  # feed the tensor into the model\n",
        "  predictions = model(token_tensor)\n",
        "  \n",
        "  # get the predictions over the sentence\n",
        "  top_predictions = predictions.argmax(-1)\n",
        "  \n",
        "  # convert the predictions into readable tags\n",
        "  predicted_tags = [tag_field.vocab.itos[t.item()] for t in top_predictions]\n",
        "  \n",
        "  return tokens, predicted_tags"
      ],
      "execution_count": 489,
      "outputs": []
    },
    {
      "cell_type": "markdown",
      "metadata": {
        "id": "Sz4NsBiz8Hyw"
      },
      "source": [
        "Let's try to see the performance of the model with a sentence from the test set"
      ]
    },
    {
      "cell_type": "code",
      "metadata": {
        "id": "IdYPWat78Hyw",
        "colab": {
          "base_uri": "https://localhost:8080/"
        },
        "outputId": "fbb82d3b-b7b5-422c-8744-13309af1ab74"
      },
      "source": [
        "#@title Show Predictions { run: \"auto\", display-mode: \"form\" }\n",
        "example_index = 26 #@param {type:\"slider\", min:0, max:48, step:1}\n",
        "\n",
        "sentence = vars(test_data.examples[example_index])[\"words\"]\n",
        "actual_tags = vars(test_data.examples[example_index])[\"tags\"]\n",
        "\n",
        "tokens, pred_tags = tag_sentence(best_model, sentence, TEXT, TB_TAGS)\n",
        "print(\"Pred. Tag\\tActual Tag\\tCorrect?\\tToken\\n\")\n",
        "\n",
        "for token, pred_tag, actual_tag in zip(tokens, pred_tags, actual_tags):\n",
        "  correct = \"✔\" if pred_tag == actual_tag else \"✘\"\n",
        "  print(f\"{pred_tag}\\t\\t{actual_tag}\\t\\t{correct}\\t\\t{token}\")\n"
      ],
      "execution_count": 494,
      "outputs": [
        {
          "output_type": "stream",
          "text": [
            "Pred. Tag\tActual Tag\tCorrect?\tToken\n",
            "\n",
            "NNP\t\tNN\t\t✘\t\tworld\n",
            "NNP\t\tNN\t\t✘\t\tsugar\n",
            "NNS\t\tNNS\t\t✔\t\tfutures\n",
            "NNS\t\tNNS\t\t✔\t\tprices\n",
            "VBD\t\tVBD\t\t✔\t\tsoared\n",
            "IN\t\tIN\t\t✔\t\ton\n",
            "NNS\t\tNNS\t\t✔\t\trumors\n",
            "IN\t\tIN\t\t✔\t\tthat\n",
            "NNP\t\tNNP\t\t✔\t\tbrazil\n",
            ",\t\t,\t\t✔\t\t,\n",
            "DT\t\tDT\t\t✔\t\ta\n",
            "JJ\t\tJJ\t\t✔\t\tmajor\n",
            "NN\t\tNN\t\t✔\t\tgrower\n",
            "CC\t\tCC\t\t✔\t\tand\n",
            "NN\t\tNN\t\t✔\t\texporter\n",
            ",\t\t,\t\t✔\t\t,\n",
            "MD\t\tMD\t\t✔\t\tmight\n",
            "RB\t\tRB\t\t✔\t\tnot\n",
            "VB\t\tVB\t\t✔\t\tship\n",
            "VB\t\tNN\t\t✘\t\tsugar\n",
            "DT\t\tDT\t\t✔\t\tthis\n",
            "NN\t\tNN\t\t✔\t\tcrop\n",
            "NN\t\tNN\t\t✔\t\tyear\n",
            "CC\t\tCC\t\t✔\t\tand\n",
            "JJ\t\tJJ\t\t✔\t\tnext\n",
            ".\t\t.\t\t✔\t\t.\n",
            "NNS\t\tNNS\t\t✔\t\tprices\n",
            "RB\t\tRB\t\t✔\t\talso\n",
            "VBD\t\tVBD\t\t✔\t\twere\n",
            "VBN\t\tVBN\t\t✔\t\tboosted\n",
            "IN\t\tIN\t\t✔\t\tby\n",
            "DT\t\tDT\t\t✔\t\tanother\n",
            "NN\t\tNN\t\t✔\t\trumor\n",
            "IN\t\tIN\t\t✔\t\tthat\n",
            "NNP\t\tNNP\t\t✔\t\tmexico\n",
            ",\t\t,\t\t✔\t\t,\n",
            "RB\t\tRB\t\t✔\t\tusually\n",
            "DT\t\tDT\t\t✔\t\ta\n",
            "JJ\t\tJJ\t\t✔\t\tlarge\n",
            "NN\t\tNN\t\t✔\t\tproducer\n",
            "CC\t\tCC\t\t✔\t\tand\n",
            "NN\t\tNN\t\t✔\t\texporter\n",
            ",\t\t,\t\t✔\t\t,\n",
            "MD\t\tMD\t\t✔\t\tmight\n",
            "VB\t\tVB\t\t✔\t\thave\n",
            "TO\t\tTO\t\t✔\t\tto\n",
            "VB\t\tVB\t\t✔\t\tbuy\n",
            "DT\t\tDT\t\t✔\t\ta\n",
            "JJ\t\tJJ\t\t✔\t\tlarge\n",
            "NN\t\tNN\t\t✔\t\tquantity\n",
            "IN\t\tIN\t\t✔\t\tof\n",
            "NN\t\tNN\t\t✔\t\tsugar\n",
            ".\t\t.\t\t✔\t\t.\n",
            "IN\t\tIN\t\t✔\t\talthough\n",
            "NNS\t\tNNS\t\t✔\t\ttraders\n",
            "VBD\t\tVBD\t\t✔\t\trushed\n",
            "TO\t\tTO\t\t✔\t\tto\n",
            "VB\t\tVB\t\t✔\t\tbuy\n",
            "NNS\t\tNNS\t\t✔\t\tfutures\n",
            "NNS\t\tNNS\t\t✔\t\tcontracts\n",
            ",\t\t,\t\t✔\t\t,\n",
            "JJ\t\tJJ\t\t✔\t\tmany\n",
            "VBD\t\tVBD\t\t✔\t\tremained\n",
            "JJ\t\tJJ\t\t✔\t\tskeptical\n",
            "IN\t\tIN\t\t✔\t\tabout\n",
            "DT\t\tDT\t\t✔\t\tthe\n",
            "NN\t\tJJ\t\t✘\t\tbrazilian\n",
            "NN\t\tNN\t\t✔\t\tdevelopment\n",
            ",\t\t,\t\t✔\t\t,\n",
            "WDT\t\tWDT\t\t✔\t\twhich\n",
            "MD\t\tMD\t\t✔\t\tcould\n",
            "RB\t\tRB\t\t✔\t\tn't\n",
            "VB\t\tVB\t\t✔\t\tbe\n",
            "VBN\t\tVBN\t\t✔\t\tconfirmed\n",
            ",\t\t,\t\t✔\t\t,\n",
            "NNS\t\tNNS\t\t✔\t\tanalysts\n",
            "VBD\t\tVBD\t\t✔\t\tsaid\n",
            ".\t\t.\t\t✔\t\t.\n",
            "DT\t\tDT\t\t✔\t\tthe\n",
            "NNP\t\tNNP\t\t✔\t\tmarch\n",
            "CC\t\tCC\t\t✔\t\tand\n",
            "MD\t\tNNP\t\t✘\t\tmay\n",
            "NNS\t\tNNS\t\t✔\t\tcontracts\n",
            "VBD\t\tVBD\t\t✔\t\trose\n",
            "TO\t\tTO\t\t✔\t\tto\n",
            "VB\t\tJJ\t\t✘\t\tfresh\n",
            "JJ\t\tJJ\t\t✔\t\tlife-of-contract\n",
            "NNS\t\tNNS\t\t✔\t\thighs\n",
            "IN\t\tIN\t\t✔\t\tof\n",
            "CD\t\tCD\t\t✔\t\t14.54\n",
            "NNS\t\tNNS\t\t✔\t\tcents\n",
            "CC\t\tCC\t\t✔\t\tand\n",
            "CD\t\tCD\t\t✔\t\t14.28\n",
            "NNS\t\tNNS\t\t✔\t\tcents\n",
            "IN\t\tIN\t\t✔\t\tat\n",
            "PRP$\t\tPRP$\t\t✔\t\ttheir\n",
            "JJS\t\tJJS\t\t✔\t\tbest\n",
            "NNS\t\tNNS\t\t✔\t\tlevels\n",
            "IN\t\tIN\t\t✔\t\tof\n",
            "DT\t\tDT\t\t✔\t\tthe\n",
            "NN\t\tNN\t\t✔\t\tday\n",
            ".\t\t.\t\t✔\t\t.\n",
            "DT\t\tDT\t\t✔\t\tthe\n",
            "NNP\t\tNNP\t\t✔\t\tmarch\n",
            "NN\t\tNN\t\t✔\t\tdelivery\n",
            ",\t\t,\t\t✔\t\t,\n",
            "WDT\t\tWDT\t\t✔\t\twhich\n",
            "VBZ\t\tVBZ\t\t✔\t\thas\n",
            "DT\t\tDT\t\t✔\t\tno\n",
            "NNS\t\tNNS\t\t✔\t\tlimits\n",
            ",\t\t,\t\t✔\t\t,\n",
            "VBN\t\tVBD\t\t✘\t\tsettled\n",
            "IN\t\tIN\t\t✔\t\tat\n",
            "CD\t\tCD\t\t✔\t\t14.53\n",
            "NNS\t\tNNS\t\t✔\t\tcents\n",
            ",\t\t,\t\t✔\t\t,\n",
            "IN\t\tRB\t\t✘\t\tup\n",
            "CD\t\tCD\t\t✔\t\t0.56\n",
            "NN\t\tNN\t\t✔\t\tcent\n",
            "DT\t\tDT\t\t✔\t\ta\n",
            "NN\t\tNN\t\t✔\t\tpound\n",
            ".\t\t.\t\t✔\t\t.\n",
            "DT\t\tDT\t\t✔\t\tthe\n",
            "MD\t\tNNP\t\t✘\t\tmay\n",
            "NN\t\tNN\t\t✔\t\tcontract\n",
            ",\t\t,\t\t✔\t\t,\n",
            "WDT\t\tWDT\t\t✔\t\twhich\n",
            "RB\t\tRB\t\t✔\t\talso\n",
            "VBZ\t\tVBZ\t\t✔\t\tis\n",
            "IN\t\tIN\t\t✔\t\twithout\n",
            "NNS\t\tNNS\t\t✔\t\trestraints\n",
            ",\t\t,\t\t✔\t\t,\n",
            "VBD\t\tVBD\t\t✔\t\tended\n",
            "IN\t\tIN\t\t✔\t\twith\n",
            "DT\t\tDT\t\t✔\t\ta\n",
            "NN\t\tNN\t\t✔\t\tgain\n",
            "IN\t\tIN\t\t✔\t\tof\n",
            "CD\t\tCD\t\t✔\t\t0.54\n",
            "NN\t\tNN\t\t✔\t\tcent\n",
            "TO\t\tTO\t\t✔\t\tto\n",
            "CD\t\tCD\t\t✔\t\t14.26\n",
            "NNS\t\tNNS\t\t✔\t\tcents\n",
            ".\t\t.\t\t✔\t\t.\n",
            "DT\t\tDT\t\t✔\t\tthe\n",
            "NNP\t\tNNP\t\t✔\t\tjuly\n",
            "NN\t\tNN\t\t✔\t\tdelivery\n",
            "VBD\t\tVBD\t\t✔\t\trose\n",
            "PRP$\t\tPRP$\t\t✔\t\tits\n",
            "JJ\t\tJJ\t\t✔\t\tdaily\n",
            "JJ\t\tJJ\t\t✔\t\tpermissible\n",
            "NN\t\tNN\t\t✔\t\tlimit\n",
            "IN\t\tIN\t\t✔\t\tof\n",
            "CD\t\tCD\t\t✔\t\t0.50\n",
            "NN\t\tNN\t\t✔\t\tcent\n",
            "DT\t\tDT\t\t✔\t\ta\n",
            "NN\t\tNN\t\t✔\t\tpound\n",
            "TO\t\tTO\t\t✔\t\tto\n",
            "CD\t\tCD\t\t✔\t\t14.00\n",
            "NNS\t\tNNS\t\t✔\t\tcents\n",
            ",\t\t,\t\t✔\t\t,\n",
            "IN\t\tIN\t\t✔\t\twhile\n",
            "JJ\t\tJJ\t\t✔\t\tother\n",
            "NN\t\tNN\t\t✔\t\tcontract\n",
            "NNS\t\tNNS\t\t✔\t\tmonths\n",
            "VBD\t\tVBD\t\t✔\t\tshowed\n",
            "CD\t\tJJ\t\t✘\t\tnear-limit\n",
            "NNS\t\tNNS\t\t✔\t\tadvances\n",
            ".\t\t.\t\t✔\t\t.\n",
            "VBG\t\tVBG\t\t✔\t\taccording\n",
            "TO\t\tTO\t\t✔\t\tto\n",
            "NNS\t\tNNS\t\t✔\t\treports\n",
            "VBN\t\tVBN\t\t✔\t\tcarried\n",
            "IN\t\tIN\t\t✔\t\tby\n",
            "JJ\t\tJJ\t\t✔\t\tvarious\n",
            "NN\t\tNN\t\t✔\t\tnews\n",
            "NNS\t\tNNS\t\t✔\t\tservices\n",
            ",\t\t,\t\t✔\t\t,\n",
            "DT\t\tDT\t\t✔\t\tthe\n",
            "NN\t\tJJ\t\t✘\t\tbrazilian\n",
            "NN\t\tNN\t\t✔\t\tgovernment\n",
            "VBD\t\tVBD\t\t✔\t\ttold\n",
            "PRP$\t\tPRP$\t\t✔\t\tits\n",
            "NN\t\tNN\t\t✔\t\tsugar\n",
            "NNS\t\tNNS\t\t✔\t\tproducers\n",
            "IN\t\tIN\t\t✔\t\tthat\n",
            "PRP\t\tPRP\t\t✔\t\tthey\n",
            "MD\t\tMD\t\t✔\t\two\n",
            "RB\t\tRB\t\t✔\t\tn't\n",
            "VB\t\tVB\t\t✔\t\tbe\n",
            "VBN\t\tVBN\t\t✔\t\tallowed\n",
            "TO\t\tTO\t\t✔\t\tto\n",
            "VB\t\tVB\t\t✔\t\texport\n",
            "NN\t\tNN\t\t✔\t\tsugar\n",
            "IN\t\tIN\t\t✔\t\tduring\n",
            "DT\t\tDT\t\t✔\t\tthe\n",
            "JJ\t\tJJ\t\t✔\t\tcurrent\n",
            "CD\t\tCD\t\t✔\t\t1989-90\n",
            "NN\t\tNN\t\t✔\t\tseason\n",
            ",\t\t,\t\t✔\t\t,\n",
            "WDT\t\tWDT\t\t✔\t\twhich\n",
            "VBD\t\tVBD\t\t✔\t\tbegan\n",
            "MD\t\tNNP\t\t✘\t\tmay\n",
            "CD\t\tCD\t\t✔\t\t1\n",
            ",\t\t,\t\t✔\t\t,\n",
            "CC\t\tCC\t\t✔\t\tand\n",
            "DT\t\tDT\t\t✔\t\tthe\n",
            "NNP\t\tCD\t\t✘\t\t1990-91\n",
            "NN\t\tNN\t\t✔\t\tseason\n",
            "IN\t\tIN\t\t✔\t\tso\n",
            "IN\t\tIN\t\t✔\t\tthat\n",
            "PRP\t\tPRP\t\t✔\t\tit\n",
            "MD\t\tMD\t\t✔\t\tcan\n",
            "VB\t\tVB\t\t✔\t\tbe\n",
            "VBN\t\tVBN\t\t✔\t\tused\n",
            "TO\t\tTO\t\t✔\t\tto\n",
            "VB\t\tVB\t\t✔\t\tproduce\n",
            "NN\t\tNN\t\t✔\t\talcohol\n",
            "IN\t\tIN\t\t✔\t\tfor\n",
            "NN\t\tNN\t\t✔\t\tautomobile\n",
            "NN\t\tNN\t\t✔\t\tfuel\n",
            ".\t\t.\t\t✔\t\t.\n",
            "CD\t\tCD\t\t✔\t\tone\n",
            "NN\t\tNN\t\t✔\t\tanalyst\n",
            ",\t\t,\t\t✔\t\t,\n",
            "NNP\t\tNNP\t\t✔\t\tarthur\n",
            "NNP\t\tNNP\t\t✔\t\tstevenson\n",
            ",\t\t,\t\t✔\t\t,\n",
            "IN\t\tIN\t\t✔\t\tof\n",
            "NNP\t\tNNP\t\t✔\t\tprudential-bache\n",
            "NNPS\t\tNNPS\t\t✔\t\tsecurities\n",
            ",\t\t,\t\t✔\t\t,\n",
            "NNP\t\tNNP\t\t✔\t\tnew\n",
            "NNP\t\tNNP\t\t✔\t\tyork\n",
            ",\t\t,\t\t✔\t\t,\n",
            "VBD\t\tVBD\t\t✔\t\testimated\n",
            "IN\t\tIN\t\t✔\t\tthat\n",
            "CD\t\tCD\t\t✔\t\t65\n",
            "NN\t\tNN\t\t✔\t\t%\n",
            "CC\t\tCC\t\t✔\t\tor\n",
            "JJR\t\tJJR\t\t✔\t\tmore\n",
            "IN\t\tIN\t\t✔\t\tof\n",
            "NNP\t\tNNP\t\t✔\t\tbrazil\n",
            "POS\t\tPOS\t\t✔\t\t's\n",
            "RB\t\tRB\t\t✔\t\tnewly\n",
            "VBN\t\tVBN\t\t✔\t\tmade\n",
            "NNS\t\tNNS\t\t✔\t\tautomobiles\n",
            "VBN\t\tVBP\t\t✘\t\trun\n",
            "IN\t\tIN\t\t✔\t\ton\n",
            "NN\t\tNN\t\t✔\t\talcohol\n",
            "CC\t\tCC\t\t✔\t\tand\n",
            "MD\t\tMD\t\t✔\t\tca\n",
            "RB\t\tRB\t\t✔\t\tn't\n",
            "VB\t\tVB\t\t✔\t\tuse\n",
            "NNS\t\tNN\t\t✘\t\tgasoline\n",
            ".\t\t.\t\t✔\t\t.\n",
            "``\t\t``\t\t✔\t\t``\n",
            "DT\t\tDT\t\t✔\t\tthis\n",
            "VBZ\t\tVBZ\t\t✔\t\tis\n",
            "DT\t\tDT\t\t✔\t\ta\n",
            "NN\t\tNN\t\t✔\t\tdemand\n",
            "WDT\t\tWDT\t\t✔\t\tthat\n",
            "MD\t\tMD\t\t✔\t\tmust\n",
            "VB\t\tVB\t\t✔\t\tbe\n",
            "VBN\t\tVBN\t\t✔\t\tmet\n",
            ",\t\t,\t\t✔\t\t,\n",
            "NN\t\tRB\t\t✘\t\tregardless\n",
            "IN\t\tIN\t\t✔\t\tof\n",
            "DT\t\tDT\t\t✔\t\tthe\n",
            "NN\t\tNN\t\t✔\t\tprice\n",
            "IN\t\tIN\t\t✔\t\tof\n",
            "NN\t\tNN\t\t✔\t\toil\n",
            ",\t\t,\t\t✔\t\t,\n",
            "''\t\t''\t\t✔\t\t''\n",
            "VBD\t\tVBD\t\t✔\t\tsaid\n",
            "NNP\t\tNNP\t\t✔\t\tmr.\n",
            "NNP\t\tNNP\t\t✔\t\tstevenson\n",
            ".\t\t.\t\t✔\t\t.\n",
            "NNP\t\tNNP\t\t✔\t\tbrazil\n",
            "VBZ\t\tVBZ\t\t✔\t\tis\n",
            "DT\t\tDT\t\t✔\t\tthe\n",
            "JJ\t\tJJ\t\t✔\t\tthird-largest\n",
            "NN\t\tNN\t\t✔\t\tproducer\n",
            "CC\t\tCC\t\t✔\t\tand\n",
            "DT\t\tDT\t\t✔\t\tthe\n",
            "JJ\t\tJJ\t\t✔\t\tfifth-largest\n",
            "NN\t\tNN\t\t✔\t\texporter\n",
            "IN\t\tIN\t\t✔\t\tof\n",
            "NN\t\tNN\t\t✔\t\tsugar\n",
            "IN\t\tIN\t\t✔\t\tin\n",
            "DT\t\tDT\t\t✔\t\tthe\n",
            "NN\t\tNN\t\t✔\t\tworld\n",
            ".\t\t.\t\t✔\t\t.\n",
            "DT\t\tDT\t\t✔\t\ta\n",
            "NN\t\tNN\t\t✔\t\tshift\n",
            "TO\t\tTO\t\t✔\t\tto\n",
            "VBG\t\tVBG\t\t✔\t\tproducing\n",
            "JJR\t\tJJR\t\t✔\t\tmore\n",
            "NN\t\tNN\t\t✔\t\talcohol\n",
            "CC\t\tCC\t\t✔\t\tand\n",
            "JJR\t\tJJR\t\t✔\t\tless\n",
            "NN\t\tNN\t\t✔\t\tsugar\n",
            "VBD\t\tVBD\t\t✔\t\thad\n",
            "VBN\t\tVBN\t\t✔\t\tbeen\n",
            "VBN\t\tVBN\t\t✔\t\texpected\n",
            ",\t\t,\t\t✔\t\t,\n",
            "CC\t\tCC\t\t✔\t\tbut\n",
            "DT\t\tDT\t\t✔\t\tthe\n",
            "JJS\t\tJJS\t\t✔\t\tlatest\n",
            "NN\t\tNN\t\t✔\t\tnews\n",
            ",\t\t,\t\t✔\t\t,\n",
            "IN\t\tIN\t\t✔\t\tif\n",
            "JJ\t\tJJ\t\t✔\t\ttrue\n",
            ",\t\t,\t\t✔\t\t,\n",
            "VBZ\t\tVBZ\t\t✔\t\tindicates\n",
            "DT\t\tDT\t\t✔\t\ta\n",
            "RBR\t\tRBR\t\t✔\t\tmore\n",
            "JJ\t\tJJ\t\t✔\t\tdrastic\n",
            "NN\t\tNN\t\t✔\t\tshift\n",
            "IN\t\tIN\t\t✔\t\tthan\n",
            "VBD\t\tVBD\t\t✔\t\thad\n",
            "VBN\t\tVBN\t\t✔\t\tbeen\n",
            "VBN\t\tVBN\t\t✔\t\tanticipated\n",
            ".\t\t.\t\t✔\t\t.\n",
            "IN\t\tIN\t\t✔\t\tduring\n",
            "DT\t\tDT\t\t✔\t\tthe\n",
            "JJ\t\tJJ\t\t✔\t\tcurrent\n",
            "NN\t\tNN\t\t✔\t\tcrop\n",
            "NN\t\tNN\t\t✔\t\tyear\n",
            ",\t\t,\t\t✔\t\t,\n",
            "NNP\t\tNNP\t\t✔\t\tbrazil\n",
            "VBD\t\tVBD\t\t✔\t\twas\n",
            "VBN\t\tVBN\t\t✔\t\texpected\n",
            "TO\t\tTO\t\t✔\t\tto\n",
            "VB\t\tVB\t\t✔\t\tproduce\n",
            "CD\t\tCD\t\t✔\t\t6.9\n",
            "CD\t\tCD\t\t✔\t\tmillion\n",
            "CD\t\tNNS\t\t✘\t\ttons\n",
            "IN\t\tIN\t\t✔\t\tof\n",
            "NN\t\tNN\t\t✔\t\tsugar\n",
            ",\t\t,\t\t✔\t\t,\n",
            "DT\t\tDT\t\t✔\t\ta\n",
            "NN\t\tNN\t\t✔\t\tdrop\n",
            "IN\t\tIN\t\t✔\t\tfrom\n",
            "CD\t\tCD\t\t✔\t\t8.1\n",
            "CD\t\tCD\t\t✔\t\tmillion\n",
            "CD\t\tNNS\t\t✘\t\ttons\n",
            "IN\t\tIN\t\t✔\t\tin\n",
            "NNP\t\tCD\t\t✘\t\t1988-89\n",
            ".\t\t.\t\t✔\t\t.\n",
            "PRP$\t\tPRP$\t\t✔\t\tits\n",
            "CD\t\tCD\t\t✔\t\t1989-90\n",
            "NNS\t\tNNS\t\t✔\t\texports\n",
            "VBD\t\tVBD\t\t✔\t\twere\n",
            "VBN\t\tVBN\t\t✔\t\texpected\n",
            "TO\t\tTO\t\t✔\t\tto\n",
            "VB\t\tVB\t\t✔\t\ttotal\n",
            "VBN\t\tCD\t\t✘\t\t645,000\n",
            "CD\t\tNNS\t\t✘\t\ttons\n",
            "IN\t\tIN\t\t✔\t\tin\n",
            "NNS\t\tNN\t\t✘\t\tcontrast\n",
            "TO\t\tTO\t\t✔\t\tto\n",
            "NNS\t\tNNS\t\t✔\t\tshipments\n",
            "IN\t\tIN\t\t✔\t\tof\n",
            "CD\t\tCD\t\t✔\t\t1.5\n",
            "CD\t\tCD\t\t✔\t\tmillion\n",
            "CD\t\tNNS\t\t✘\t\ttons\n",
            "IN\t\tIN\t\t✔\t\tin\n",
            "``\t\t``\t\t✔\t\t``\n",
            "PRP\t\tPRP\t\t✔\t\tit\n",
            "VBZ\t\tVBZ\t\t✔\t\tis\n",
            "DT\t\tDT\t\t✔\t\tthese\n",
            "JJ\t\tCD\t\t✘\t\t645,000\n",
            "CD\t\tNNS\t\t✘\t\ttons\n",
            "WDT\t\tWDT\t\t✔\t\tthat\n",
            "VBP\t\tVBP\t\t✔\t\tare\n",
            "IN\t\tIN\t\t✔\t\tin\n",
            "NN\t\tNN\t\t✔\t\tquestion\n",
            "IN\t\tIN\t\t✔\t\tfor\n",
            "DT\t\tDT\t\t✔\t\tthis\n",
            "NN\t\tNN\t\t✔\t\tcrop\n",
            "NN\t\tNN\t\t✔\t\tyear\n",
            ",\t\t,\t\t✔\t\t,\n",
            "''\t\t''\t\t✔\t\t''\n",
            "VBD\t\tVBD\t\t✔\t\texplained\n",
            "NNP\t\tNNP\t\t✔\t\tjudith\n",
            "NNP\t\tNNP\t\t✔\t\tganes\n",
            ",\t\t,\t\t✔\t\t,\n",
            "NN\t\tNN\t\t✔\t\tanalyst\n",
            "IN\t\tIN\t\t✔\t\tfor\n",
            "NNP\t\tNNP\t\t✔\t\tshearson\n",
            "NNP\t\tNNP\t\t✔\t\tlehman\n",
            "NNP\t\tNNP\t\t✔\t\thutton\n",
            ",\t\t,\t\t✔\t\t,\n",
            "NNP\t\tNNP\t\t✔\t\tnew\n",
            "NNP\t\tNNP\t\t✔\t\tyork\n",
            ".\t\t.\t\t✔\t\t.\n",
            "``\t\t``\t\t✔\t\t``\n",
            "NNS\t\tNNS\t\t✔\t\tproducers\n",
            "VBD\t\tVBD\t\t✔\t\twere\n",
            "VBN\t\tVBN\t\t✔\t\tgranted\n",
            "DT\t\tDT\t\t✔\t\tthe\n",
            "JJ\t\tRB\t\t✘\t\tright\n",
            "JJR\t\tRB\t\t✘\t\tearlier\n",
            "DT\t\tDT\t\t✔\t\tthis\n",
            "NN\t\tNN\t\t✔\t\tyear\n",
            "TO\t\tTO\t\t✔\t\tto\n",
            "VB\t\tVB\t\t✔\t\tship\n",
            "NN\t\tNN\t\t✔\t\tsugar\n",
            "CC\t\tCC\t\t✔\t\tand\n",
            "DT\t\tDT\t\t✔\t\tthe\n",
            "NN\t\tNN\t\t✔\t\texport\n",
            "NNS\t\tNNS\t\t✔\t\tlicenses\n",
            "VBD\t\tVBD\t\t✔\t\twere\n",
            "VBN\t\tVBN\t\t✔\t\texpected\n",
            "TO\t\tTO\t\t✔\t\tto\n",
            "VB\t\tVB\t\t✔\t\thave\n",
            "VBN\t\tVBN\t\t✔\t\tbegun\n",
            "TO\t\tTO\t\t✔\t\tto\n",
            "VB\t\tVB\t\t✔\t\tbe\n",
            "VBN\t\tVBN\t\t✔\t\tissued\n",
            "''\t\t''\t\t✔\t\t''\n",
            "NN\t\tNN\t\t✔\t\tyesterday\n",
            ".\t\t.\t\t✔\t\t.\n",
            "IN\t\tIN\t\t✔\t\tas\n",
            "DT\t\tDT\t\t✔\t\ta\n",
            "NN\t\tNN\t\t✔\t\tresult\n",
            ",\t\t,\t\t✔\t\t,\n",
            "NNP\t\tNNP\t\t✔\t\tms.\n",
            "NNP\t\tNNP\t\t✔\t\tganes\n",
            "VBD\t\tVBD\t\t✔\t\tsaid\n",
            ",\t\t,\t\t✔\t\t,\n",
            "PRP\t\tPRP\t\t✔\t\tit\n",
            "VBZ\t\tVBZ\t\t✔\t\tis\n",
            "VBN\t\tVBN\t\t✔\t\tbelieved\n",
            "IN\t\tIN\t\t✔\t\tthat\n",
            "RB\t\tJJ\t\t✘\t\tlittle\n",
            "CC\t\tCC\t\t✔\t\tor\n",
            "DT\t\tDT\t\t✔\t\tno\n",
            "NN\t\tNN\t\t✔\t\tsugar\n",
            "IN\t\tIN\t\t✔\t\tfrom\n",
            "DT\t\tDT\t\t✔\t\tthe\n",
            "NNP\t\tCD\t\t✘\t\t1989-90\n",
            "NN\t\tNN\t\t✔\t\tcrop\n",
            "VBZ\t\tVBZ\t\t✔\t\thas\n",
            "VBN\t\tVBN\t\t✔\t\tbeen\n",
            "VBN\t\tVBN\t\t✔\t\tshipped\n",
            "RB\t\tRB\t\t✔\t\tyet\n",
            ",\t\t,\t\t✔\t\t,\n",
            "RB\t\tRB\t\t✔\t\teven\n",
            "IN\t\tIN\t\t✔\t\tthough\n",
            "DT\t\tDT\t\t✔\t\tthe\n",
            "NN\t\tNN\t\t✔\t\tcrop\n",
            "NN\t\tNN\t\t✔\t\tyear\n",
            "VBZ\t\tVBZ\t\t✔\t\tis\n",
            "CD\t\tCD\t\t✔\t\tsix\n",
            "NNS\t\tNNS\t\t✔\t\tmonths\n",
            "JJ\t\tJJ\t\t✔\t\told\n",
            ".\t\t.\t\t✔\t\t.\n",
            "JJR\t\tJJR\t\t✔\t\tmore\n",
            "IN\t\tIN\t\t✔\t\tthan\n",
            "DT\t\tDT\t\t✔\t\ta\n",
            "NN\t\tNN\t\t✔\t\thalf\n",
            "IN\t\tIN\t\t✔\t\tof\n",
            "DT\t\tDT\t\t✔\t\tall\n",
            "NN\t\tNN\t\t✔\t\tsugar\n",
            "VBN\t\tVBN\t\t✔\t\tproduced\n",
            "IN\t\tIN\t\t✔\t\tin\n",
            "NNP\t\tNNP\t\t✔\t\tbrazil\n",
            "VBZ\t\tVBZ\t\t✔\t\tgoes\n",
            "IN\t\tIN\t\t✔\t\tfor\n",
            "NN\t\tNN\t\t✔\t\talcohol\n",
            "NN\t\tNN\t\t✔\t\tproduction\n",
            ",\t\t,\t\t✔\t\t,\n",
            "VBG\t\tVBG\t\t✔\t\taccording\n",
            "TO\t\tTO\t\t✔\t\tto\n",
            "NNP\t\tNNP\t\t✔\t\tms.\n",
            "NNP\t\tNNP\t\t✔\t\tganes\n",
            ".\t\t.\t\t✔\t\t.\n",
            "RB\t\tRB\t\t✔\t\talso\n",
            ",\t\t,\t\t✔\t\t,\n",
            "EX\t\tEX\t\t✔\t\tthere\n",
            "VBZ\t\tVBZ\t\t✔\t\thas\n",
            "VBN\t\tVBN\t\t✔\t\tbeen\n",
            "DT\t\tDT\t\t✔\t\ta\n",
            "NN\t\tNN\t\t✔\t\tswitch\n",
            "IN\t\tIN\t\t✔\t\tin\n",
            "DT\t\tDT\t\t✔\t\tthe\n",
            "JJ\t\tJJ\t\t✔\t\tpast\n",
            "NN\t\tNN\t\t✔\t\tdecade\n",
            "TO\t\tTO\t\t✔\t\tto\n",
            "VB\t\tNN\t\t✘\t\tplanting\n",
            "IN\t\tIN\t\t✔\t\tof\n",
            "NN\t\tJJ\t\t✘\t\torange\n",
            "VBP\t\tNNS\t\t✘\t\ttrees\n",
            "IN\t\tIN\t\t✔\t\tin\n",
            "NNS\t\tNNS\t\t✔\t\tareas\n",
            "WDT\t\tWDT\t\t✔\t\tthat\n",
            "VBD\t\tVBD\t\t✔\t\twere\n",
            "RB\t\tRB\t\t✔\t\tpreviously\n",
            "VBN\t\tVBN\t\t✔\t\tused\n",
            "IN\t\tIN\t\t✔\t\tfor\n",
            "NN\t\tNN\t\t✔\t\tcane\n",
            ",\t\t,\t\t✔\t\t,\n",
            "CC\t\tCC\t\t✔\t\tand\n",
            "DT\t\tDT\t\t✔\t\tthis\n",
            "NN\t\tNN\t\t✔\t\tchange\n",
            "VBZ\t\tVBZ\t\t✔\t\tis\n",
            "VBG\t\tVBG\t\t✔\t\tbeing\n",
            "VBD\t\tVBN\t\t✘\t\tfelt\n",
            "RB\t\tRB\t\t✔\t\tnow\n",
            ",\t\t,\t\t✔\t\t,\n",
            "PRP\t\tPRP\t\t✔\t\tshe\n",
            "VBD\t\tVBD\t\t✔\t\tsaid\n",
            ".\t\t.\t\t✔\t\t.\n",
            "RBS\t\tRBS\t\t✔\t\tmost\n",
            "JJ\t\tJJ\t\t✔\t\timportant\n",
            ",\t\t,\t\t✔\t\t,\n",
            "NNP\t\tNNP\t\t✔\t\tms.\n",
            "NNP\t\tNNP\t\t✔\t\tganes\n",
            "VBD\t\tVBD\t\t✔\t\tnoted\n",
            ",\t\t,\t\t✔\t\t,\n",
            "``\t\t``\t\t✔\t\t``\n",
            "JJ\t\tJJ\t\t✔\t\tbrazilian\n",
            "NNS\t\tNNS\t\t✔\t\tofficials\n",
            "VBD\t\tVBD\t\t✔\t\tsaid\n",
            "IN\t\tIN\t\t✔\t\tthat\n",
            "DT\t\tDT\t\t✔\t\tno\n",
            "NN\t\tNN\t\t✔\t\tdecision\n",
            "VBZ\t\tVBZ\t\t✔\t\thas\n",
            "IN\t\tRB\t\t✘\t\tas\n",
            "RB\t\tRB\t\t✔\t\tyet\n",
            "VBN\t\tVBN\t\t✔\t\tbeen\n",
            "VBN\t\tVBN\t\t✔\t\tmade\n",
            "IN\t\tIN\t\t✔\t\ton\n",
            "DT\t\tDT\t\t✔\t\tthe\n",
            "NN\t\tNN\t\t✔\t\tsuspension\n",
            "IN\t\tIN\t\t✔\t\tof\n",
            "NNS\t\tNNS\t\t✔\t\texports\n",
            ".\t\t.\t\t✔\t\t.\n",
            "''\t\t''\t\t✔\t\t''\n",
            "NNP\t\tNNP\t\t✔\t\tthomas\n",
            "NNP\t\tNNP\t\t✔\t\toxnard\n",
            ",\t\t,\t\t✔\t\t,\n",
            "NNP\t\tNN\t\t✘\t\tsugar\n",
            "NN\t\tNN\t\t✔\t\tanalyst\n",
            "IN\t\tIN\t\t✔\t\tfor\n",
            "NNP\t\tNNP\t\t✔\t\tpainewebber\n",
            "IN\t\tIN\t\t✔\t\tin\n",
            "NNP\t\tNNP\t\t✔\t\thackensack\n",
            ",\t\t,\t\t✔\t\t,\n",
            "NNP\t\tNNP\t\t✔\t\tn.j.\n",
            ",\t\t,\t\t✔\t\t,\n",
            "VBD\t\tVBD\t\t✔\t\tsaid\n",
            ":\t\t:\t\t✔\t\t:\n",
            "``\t\t``\t\t✔\t\t``\n",
            "PRP\t\tPRP\t\t✔\t\ti\n",
            "VBD\t\tVBP\t\t✘\t\tam\n",
            "RB\t\tRB\t\t✔\t\thighly\n",
            "JJ\t\tJJ\t\t✔\t\tskeptical\n",
            "IN\t\tIN\t\t✔\t\tthat\n",
            "NNP\t\tNNP\t\t✔\t\tbrazil\n",
            "MD\t\tMD\t\t✔\t\twill\n",
            "VB\t\tVB\t\t✔\t\tcurtail\n",
            "NN\t\tNN\t\t✔\t\tsugar\n",
            "NNS\t\tNNS\t\t✔\t\texports\n",
            ",\t\t,\t\t✔\t\t,\n",
            "RB\t\tRB\t\t✔\t\tparticularly\n",
            "IN\t\tIN\t\t✔\t\twith\n",
            "DT\t\tDT\t\t✔\t\tthe\n",
            "NN\t\tNN\t\t✔\t\tprice\n",
            "IN\t\tIN\t\t✔\t\tof\n",
            "NN\t\tNN\t\t✔\t\tsugar\n",
            "IN\t\tIN\t\t✔\t\tat\n",
            "IN\t\tIN\t\t✔\t\tover\n",
            "CD\t\tCD\t\t✔\t\t14\n",
            "NNS\t\tNNS\t\t✔\t\tcents\n",
            "DT\t\tDT\t\t✔\t\ta\n",
            "NN\t\tNN\t\t✔\t\tpound\n",
            ".\t\t.\t\t✔\t\t.\n",
            "''\t\t''\t\t✔\t\t''\n",
            "IN\t\tIN\t\t✔\t\tabove\n",
            "DT\t\tDT\t\t✔\t\tall\n",
            ",\t\t,\t\t✔\t\t,\n",
            "NNP\t\tNNP\t\t✔\t\tmr.\n",
            "NNP\t\tNNP\t\t✔\t\toxnard\n",
            "VBD\t\tVBD\t\t✔\t\tnoted\n",
            ",\t\t,\t\t✔\t\t,\n",
            "DT\t\tDT\t\t✔\t\tthe\n",
            "NN\t\tNN\t\t✔\t\tsituation\n",
            "VBZ\t\tVBZ\t\t✔\t\tis\n",
            "RB\t\tRB\t\t✔\t\textremely\n",
            "JJ\t\tVBN\t\t✘\t\tconfused\n",
            ".\t\t.\t\t✔\t\t.\n",
            "``\t\t``\t\t✔\t\t``\n",
            "JJ\t\tJJ\t\t✔\t\tprofessional\n",
            "NN\t\tNN\t\t✔\t\tsugar\n",
            "NNS\t\tNNS\t\t✔\t\tpeople\n",
            "RB\t\tRB\t\t✔\t\there\n",
            "WP\t\tWP\t\t✔\t\twho\n",
            "VBP\t\tVBP\t\t✔\t\thave\n",
            "JJ\t\tJJ\t\t✔\t\tstrong\n",
            "NNS\t\tNNS\t\t✔\t\tcontacts\n",
            "IN\t\tIN\t\t✔\t\twith\n",
            "DT\t\tDT\t\t✔\t\tthe\n",
            "NNP\t\tJJ\t\t✘\t\tbrazilian\n",
            "NNP\t\tNN\t\t✘\t\tsugar\n",
            "NN\t\tNN\t\t✔\t\tindustry\n",
            "VBP\t\tVBP\t\t✔\t\thave\n",
            "VBN\t\tVBN\t\t✔\t\tbeen\n",
            "VBN\t\tJJ\t\t✘\t\tunable\n",
            "TO\t\tTO\t\t✔\t\tto\n",
            "VB\t\tVB\t\t✔\t\tconfirm\n",
            "DT\t\tDT\t\t✔\t\tthe\n",
            "NNS\t\tNNS\t\t✔\t\treports\n",
            "CC\t\tCC\t\t✔\t\tor\n",
            "VB\t\tVB\t\t✔\t\tget\n",
            "JJ\t\tJJ\t\t✔\t\tenough\n",
            "NN\t\tNN\t\t✔\t\tinformation\n",
            "TO\t\tTO\t\t✔\t\tto\n",
            "VB\t\tVB\t\t✔\t\tclarify\n",
            "DT\t\tDT\t\t✔\t\tthe\n",
            "NN\t\tNN\t\t✔\t\tsituation\n",
            ",\t\t,\t\t✔\t\t,\n",
            "''\t\t''\t\t✔\t\t''\n",
            "PRP\t\tPRP\t\t✔\t\the\n",
            "VBD\t\tVBD\t\t✔\t\tsaid\n",
            ".\t\t.\t\t✔\t\t.\n",
            "``\t\t``\t\t✔\t\t``\n",
            "PRP\t\tPRP\t\t✔\t\tit\n",
            "VBZ\t\tVBZ\t\t✔\t\t's\n",
            "DT\t\tDT\t\t✔\t\tthe\n",
            "NN\t\tNN\t\t✔\t\ttype\n",
            "IN\t\tIN\t\t✔\t\tof\n",
            "JJ\t\tJJ\t\t✔\t\tnervous\n",
            "NN\t\tNN\t\t✔\t\tatmosphere\n",
            "IN\t\tIN\t\t✔\t\tin\n",
            "WDT\t\tWDT\t\t✔\t\twhich\n",
            "DT\t\tDT\t\t✔\t\ta\n",
            "NN\t\tNN\t\t✔\t\treport\n",
            "MD\t\tMD\t\t✔\t\tcan\n",
            "VB\t\tVB\t\t✔\t\tbe\n",
            "VBN\t\tVBN\t\t✔\t\tput\n",
            "RP\t\tRP\t\t✔\t\tout\n",
            ",\t\t,\t\t✔\t\t,\n",
            "JJ\t\tJJ\t\t✔\t\tsuch\n",
            "IN\t\tIN\t\t✔\t\tas\n",
            "DT\t\tDT\t\t✔\t\tthe\n",
            "CD\t\tCD\t\t✔\t\tone\n",
            "VBG\t\tVBG\t\t✔\t\tsaying\n",
            "NNS\t\tNNS\t\t✔\t\texports\n",
            "MD\t\tMD\t\t✔\t\twill\n",
            "VB\t\tVB\t\t✔\t\tbe\n",
            "VBN\t\tVBN\t\t✔\t\tsuspended\n",
            ",\t\t,\t\t✔\t\t,\n",
            "CC\t\tCC\t\t✔\t\tand\n",
            "DT\t\tDT\t\t✔\t\tno\n",
            "CD\t\tNN\t\t✘\t\tone\n",
            "MD\t\tMD\t\t✔\t\tcan\n",
            "VB\t\tVB\t\t✔\t\tconfirm\n",
            "PRP\t\tPRP\t\t✔\t\tit\n",
            ".\t\t.\t\t✔\t\t.\n",
            "''\t\t''\t\t✔\t\t''\n",
            "NNP\t\tNNP\t\t✔\t\tmr.\n",
            "NNP\t\tNNP\t\t✔\t\toxnard\n",
            "VBD\t\tVBD\t\t✔\t\tobserved\n",
            "IN\t\tIN\t\t✔\t\tthat\n",
            "DT\t\tDT\t\t✔\t\tthe\n",
            "NN\t\tNN\t\t✔\t\tsituation\n",
            "IN\t\tIN\t\t✔\t\tin\n",
            "NNP\t\tNNP\t\t✔\t\tbrazil\n",
            "VBZ\t\tVBZ\t\t✔\t\tis\n",
            "RB\t\tRB\t\t✔\t\talso\n",
            "RB\t\tRB\t\t✔\t\tvery\n",
            "JJ\t\tVBN\t\t✘\t\tcomplicated\n",
            ".\t\t.\t\t✔\t\t.\n",
            "IN\t\tIN\t\t✔\t\ton\n",
            "DT\t\tDT\t\t✔\t\tthe\n",
            "CD\t\tCD\t\t✔\t\tone\n",
            "NN\t\tNN\t\t✔\t\thand\n",
            ",\t\t,\t\t✔\t\t,\n",
            "NNP\t\tNNP\t\t✔\t\tbrazil\n",
            "VBD\t\tVBD\t\t✔\t\tstarted\n",
            "DT\t\tDT\t\t✔\t\tan\n",
            "NN\t\tNN\t\t✔\t\tethanol\n",
            "NN\t\tNN\t\t✔\t\tprogram\n",
            "IN\t\tIN\t\t✔\t\tabout\n",
            "CD\t\tCD\t\t✔\t\t15\n",
            "NNS\t\tNNS\t\t✔\t\tyears\n",
            "RB\t\tIN\t\t✘\t\tago\n",
            "TO\t\tTO\t\t✔\t\tto\n",
            "VB\t\tVB\t\t✔\t\tfuel\n",
            "DT\t\tDT\t\t✔\t\ta\n",
            "JJ\t\tJJ\t\t✔\t\thuge\n",
            "NN\t\tNN\t\t✔\t\tportion\n",
            "IN\t\tIN\t\t✔\t\tof\n",
            "PRP$\t\tPRP$\t\t✔\t\tits\n",
            "JJ\t\tJJ\t\t✔\t\tnational\n",
            "NNS\t\tNN\t\t✘\t\tfleet\n",
            "IN\t\tIN\t\t✔\t\tof\n",
            "NNS\t\tNNS\t\t✔\t\tcars\n",
            "CC\t\tCC\t\t✔\t\tand\n",
            "VBZ\t\tVBZ\t\t✔\t\tis\n",
            "RB\t\tRB\t\t✔\t\tnow\n",
            "VBN\t\tVBN\t\t✔\t\tcommitted\n",
            "TO\t\tTO\t\t✔\t\tto\n",
            "DT\t\tDT\t\t✔\t\tthis\n",
            "NN\t\tNN\t\t✔\t\tprogram\n",
            ".\t\t.\t\t✔\t\t.\n",
            "``\t\t``\t\t✔\t\t``\n",
            "PRP\t\tPRP\t\t✔\t\tit\n",
            "VBZ\t\tVBZ\t\t✔\t\thas\n",
            "TO\t\tTO\t\t✔\t\tto\n",
            "VB\t\tVB\t\t✔\t\tweigh\n",
            ",\t\t,\t\t✔\t\t,\n",
            "IN\t\tIN\t\t✔\t\ton\n",
            "DT\t\tDT\t\t✔\t\tthe\n",
            "JJ\t\tJJ\t\t✔\t\tother\n",
            "NN\t\tNN\t\t✔\t\thand\n",
            ",\t\t,\t\t✔\t\t,\n",
            "DT\t\tDT\t\t✔\t\tthe\n",
            "RB\t\tRB\t\t✔\t\trelatively\n",
            "JJ\t\tJJ\t\t✔\t\thigh\n",
            "NN\t\tNN\t\t✔\t\tprice\n",
            "IN\t\tIN\t\t✔\t\tof\n",
            "NN\t\tNN\t\t✔\t\tsugar\n",
            "PRP\t\tPRP\t\t✔\t\tit\n",
            "MD\t\tMD\t\t✔\t\tcan\n",
            "VB\t\tVB\t\t✔\t\tearn\n",
            "IN\t\tIN\t\t✔\t\ton\n",
            "DT\t\tDT\t\t✔\t\tthe\n",
            "NN\t\tNN\t\t✔\t\texport\n",
            "NN\t\tNN\t\t✔\t\tmarket\n",
            "IN\t\tIN\t\t✔\t\tin\n",
            "VBG\t\tVBG\t\t✔\t\tmaking\n",
            "NNS\t\tNNS\t\t✔\t\tdecisions\n",
            "IN\t\tIN\t\t✔\t\tas\n",
            "TO\t\tTO\t\t✔\t\tto\n",
            "IN\t\tIN\t\t✔\t\twhether\n",
            "TO\t\tTO\t\t✔\t\tto\n",
            "VB\t\tVB\t\t✔\t\tproduce\n",
            "NN\t\tNN\t\t✔\t\tsugar\n",
            "CC\t\tCC\t\t✔\t\tor\n",
            "NN\t\tNN\t\t✔\t\talcohol\n",
            ",\t\t,\t\t✔\t\t,\n",
            "''\t\t''\t\t✔\t\t''\n",
            "NNP\t\tNNP\t\t✔\t\tmr.\n",
            "NNP\t\tNNP\t\t✔\t\toxnard\n",
            "VBD\t\tVBD\t\t✔\t\tsaid\n",
            ".\t\t.\t\t✔\t\t.\n",
            "NNP\t\tNNP\t\t✔\t\tmexico\n",
            ",\t\t,\t\t✔\t\t,\n",
            "WDT\t\tWDT\t\t✔\t\twhich\n",
            "VBZ\t\tVBZ\t\t✔\t\tis\n",
            "RB\t\tRB\t\t✔\t\tnormally\n",
            "DT\t\tDT\t\t✔\t\ta\n",
            "NN\t\tNN\t\t✔\t\tsugar\n",
            "NN\t\tNN\t\t✔\t\texporter\n",
            ",\t\t,\t\t✔\t\t,\n",
            "VBZ\t\tVBZ\t\t✔\t\thas\n",
            "VBN\t\tVBN\t\t✔\t\thad\n",
            "NN\t\tNN\t\t✔\t\tproduction\n",
            "NNS\t\tNNS\t\t✔\t\tproblems\n",
            "IN\t\tIN\t\t✔\t\tin\n",
            "DT\t\tDT\t\t✔\t\tthe\n",
            "JJ\t\tJJ\t\t✔\t\tpast\n",
            "CD\t\tCD\t\t✔\t\ttwo\n",
            "NNS\t\tNNS\t\t✔\t\tyears\n",
            ",\t\t,\t\t✔\t\t,\n",
            "NNS\t\tNNS\t\t✔\t\tanalysts\n",
            "VBD\t\tVBD\t\t✔\t\tsaid\n",
            ".\t\t.\t\t✔\t\t.\n",
            "JJ\t\tJJ\t\t✔\t\tlast\n",
            "NN\t\tNN\t\t✔\t\tyear\n",
            ",\t\t,\t\t✔\t\t,\n",
            "PRP\t\tPRP\t\t✔\t\tit\n",
            "VBD\t\tVBD\t\t✔\t\thad\n",
            "TO\t\tTO\t\t✔\t\tto\n",
            "VB\t\tVB\t\t✔\t\tbuy\n",
            "NN\t\tNN\t\t✔\t\tsugar\n",
            "IN\t\tIN\t\t✔\t\ton\n",
            "DT\t\tDT\t\t✔\t\tthe\n",
            "NNP\t\tNN\t\t✘\t\tworld\n",
            "NN\t\tNN\t\t✔\t\tmarket\n",
            "TO\t\tTO\t\t✔\t\tto\n",
            "VB\t\tVB\t\t✔\t\tmeet\n",
            "VB\t\tNN\t\t✘\t\texport\n",
            "NNS\t\tNNS\t\t✔\t\tcommitments\n",
            ",\t\t,\t\t✔\t\t,\n",
            "PRP\t\tPRP\t\t✔\t\tthey\n",
            "VBD\t\tVBD\t\t✔\t\tnoted\n",
            ".\t\t.\t\t✔\t\t.\n",
            "DT\t\tDT\t\t✔\t\tthis\n",
            "NN\t\tNN\t\t✔\t\tyear\n",
            "PRP\t\tPRP\t\t✔\t\tit\n",
            "VBZ\t\tVBZ\t\t✔\t\tis\n",
            "VBN\t\tVBN\t\t✔\t\texpected\n",
            "TO\t\tTO\t\t✔\t\tto\n",
            "VB\t\tVB\t\t✔\t\tbe\n",
            "DT\t\tDT\t\t✔\t\ta\n",
            "JJ\t\tJJ\t\t✔\t\tnet\n",
            "NN\t\tNN\t\t✔\t\timporter\n",
            "CC\t\tCC\t\t✔\t\tand\n",
            "VBZ\t\tVBZ\t\t✔\t\tis\n",
            "VBD\t\tVBN\t\t✘\t\tsaid\n",
            "TO\t\tTO\t\t✔\t\tto\n",
            "VB\t\tVB\t\t✔\t\tbe\n",
            "VBG\t\tVBG\t\t✔\t\tseeking\n",
            "TO\t\tTO\t\t✔\t\tto\n",
            "VB\t\tVB\t\t✔\t\tbuy\n",
            "IN\t\tIN\t\t✔\t\tabout\n",
            "CD\t\tCD\t\t✔\t\t200,000\n",
            "CD\t\tNNS\t\t✘\t\ttons\n",
            "IN\t\tIN\t\t✔\t\tof\n",
            "NN\t\tNN\t\t✔\t\tsugar\n",
            "TO\t\tTO\t\t✔\t\tto\n",
            "VB\t\tVB\t\t✔\t\tmeet\n",
            "JJ\t\tJJ\t\t✔\t\tinternal\n",
            "NNS\t\tNNS\t\t✔\t\tneeds\n",
            ",\t\t,\t\t✔\t\t,\n",
            "NNS\t\tNNS\t\t✔\t\tanalysts\n",
            "VBD\t\tVBD\t\t✔\t\tsaid\n",
            ".\t\t.\t\t✔\t\t.\n",
            "IN\t\tIN\t\t✔\t\tin\n",
            "JJ\t\tJJ\t\t✔\t\tother\n",
            "NNP\t\tNN\t\t✘\t\tcommodity\n",
            "NNS\t\tNNS\t\t✔\t\tmarkets\n",
            "NN\t\tNN\t\t✔\t\tyesterday\n",
            ":\t\t:\t\t✔\t\t:\n",
            "NNP\t\tNNP\t\t✔\t\tenergy\n",
            ":\t\t:\t\t✔\t\t:\n",
            "NNP\t\tNNP\t\t✔\t\tpetroleum\n",
            "NNS\t\tNNS\t\t✔\t\tfutures\n",
            "VBD\t\tVBD\t\t✔\t\twere\n",
            "RB\t\tRB\t\t✔\t\tgenerally\n",
            "JJR\t\tJJR\t\t✔\t\thigher\n",
            "IN\t\tIN\t\t✔\t\twith\n",
            "NN\t\tNN\t\t✔\t\theating\n",
            "NN\t\tNN\t\t✔\t\toil\n",
            "VBG\t\tVBG\t\t✔\t\tleading\n",
            "DT\t\tDT\t\t✔\t\tthe\n",
            "NN\t\tNN\t\t✔\t\tway\n",
            ".\t\t.\t\t✔\t\t.\n",
            "IN\t\tIN\t\t✔\t\ton\n",
            "DT\t\tDT\t\t✔\t\tthe\n",
            "NNP\t\tNNP\t\t✔\t\tnew\n",
            "NNP\t\tNNP\t\t✔\t\tyork\n",
            "NNP\t\tNNP\t\t✔\t\tmercantile\n",
            "NNP\t\tNNP\t\t✔\t\texchange\n",
            ",\t\t,\t\t✔\t\t,\n",
            "NN\t\tNN\t\t✔\t\theating\n",
            "NN\t\tNN\t\t✔\t\toil\n",
            "IN\t\tIN\t\t✔\t\tfor\n",
            "NNP\t\tNNP\t\t✔\t\tdecember\n",
            "NN\t\tNN\t\t✔\t\tdelivery\n",
            "VBN\t\tVBD\t\t✘\t\tincreased\n",
            "CD\t\tCD\t\t✔\t\t1.25\n",
            "NNS\t\tNNS\t\t✔\t\tcents\n",
            "TO\t\tTO\t\t✔\t\tto\n",
            "VB\t\tVB\t\t✔\t\tsettle\n",
            "IN\t\tIN\t\t✔\t\tat\n",
            "CD\t\tCD\t\t✔\t\t60.36\n",
            "NNS\t\tNNS\t\t✔\t\tcents\n",
            "DT\t\tDT\t\t✔\t\ta\n",
            "CD\t\tNN\t\t✘\t\tgallon\n",
            ".\t\t.\t\t✔\t\t.\n",
            "NNS\t\tNN\t\t✘\t\tgasoline\n",
            "NNS\t\tNNS\t\t✔\t\tfutures\n",
            "VBD\t\tVBD\t\t✔\t\twere\n",
            "VBN\t\tVBN\t\t✔\t\tmixed\n",
            "TO\t\tTO\t\t✔\t\tto\n",
            "JJ\t\tJJ\t\t✔\t\tunchanged\n",
            ".\t\t.\t\t✔\t\t.\n",
            "CC\t\tCC\t\t✔\t\tbut\n",
            "DT\t\tDT\t\t✔\t\tthe\n",
            "NN\t\tNN\t\t✔\t\tstrength\n",
            "IN\t\tIN\t\t✔\t\tin\n",
            "NN\t\tNN\t\t✔\t\theating\n",
            "NN\t\tNN\t\t✔\t\toil\n",
            "VBD\t\tVBD\t\t✔\t\thelped\n",
            "VB\t\tVB\t\t✔\t\tpush\n",
            "RP\t\tRP\t\t✔\t\tup\n",
            "JJ\t\tJJ\t\t✔\t\tcrude\n",
            "NN\t\tNN\t\t✔\t\toil\n",
            ".\t\t.\t\t✔\t\t.\n",
            "NNP\t\tNNP\t\t✔\t\twest\n",
            "NNP\t\tNNP\t\t✔\t\ttexas\n",
            "NNP\t\tNNP\t\t✔\t\tintermediate\n",
            "NNP\t\tJJ\t\t✘\t\tcrude\n",
            "IN\t\tIN\t\t✔\t\tfor\n",
            "NNP\t\tNNP\t\t✔\t\tdecember\n",
            "NN\t\tNN\t\t✔\t\tdelivery\n",
            "VBD\t\tVBD\t\t✔\t\trose\n",
            "CD\t\tCD\t\t✔\t\t13\n",
            "NNS\t\tNNS\t\t✔\t\tcents\n",
            "DT\t\tDT\t\t✔\t\ta\n",
            "NN\t\tNN\t\t✔\t\tbarrel\n",
            "TO\t\tTO\t\t✔\t\tto\n",
            "VB\t\tVB\t\t✔\t\tsettle\n",
            "IN\t\tIN\t\t✔\t\tat\n",
            "$\t\t$\t\t✔\t\t$\n",
            "CD\t\tCD\t\t✔\t\t20.07\n",
            ".\t\t.\t\t✔\t\t.\n",
            "DT\t\tDT\t\t✔\t\tthe\n",
            "NN\t\tNN\t\t✔\t\tfirmness\n",
            "IN\t\tIN\t\t✔\t\tin\n",
            "NN\t\tNN\t\t✔\t\theating\n",
            "NN\t\tNN\t\t✔\t\toil\n",
            "VBD\t\tVBD\t\t✔\t\twas\n",
            "VBN\t\tVBN\t\t✔\t\tattributed\n",
            "TO\t\tTO\t\t✔\t\tto\n",
            "JJR\t\tJJR\t\t✔\t\tcolder\n",
            "NNS\t\tNN\t\t✘\t\tweather\n",
            "IN\t\tIN\t\t✔\t\tin\n",
            "NNS\t\tNNS\t\t✔\t\tparts\n",
            "IN\t\tIN\t\t✔\t\tof\n",
            "DT\t\tDT\t\t✔\t\tthe\n",
            "NNP\t\tNNP\t\t✔\t\tu.s.\n",
            "CC\t\tCC\t\t✔\t\tand\n",
            "TO\t\tTO\t\t✔\t\tto\n",
            "DT\t\tDT\t\t✔\t\tthe\n",
            "JJS\t\tJJS\t\t✔\t\tlatest\n",
            "JJ\t\tJJ\t\t✔\t\tweekly\n",
            "NN\t\tNN\t\t✔\t\treport\n",
            "IN\t\tIN\t\t✔\t\tby\n",
            "DT\t\tDT\t\t✔\t\tthe\n",
            "NNP\t\tNNP\t\t✔\t\tamerican\n",
            "NNP\t\tNNP\t\t✔\t\tpetroleum\n",
            "NNP\t\tNNP\t\t✔\t\tinstitute\n",
            ",\t\t,\t\t✔\t\t,\n",
            "WDT\t\tWDT\t\t✔\t\twhich\n",
            "VBD\t\tVBD\t\t✔\t\tshowed\n",
            "DT\t\tDT\t\t✔\t\ta\n",
            "NN\t\tNN\t\t✔\t\tdecline\n",
            "IN\t\tIN\t\t✔\t\tin\n",
            "NNS\t\tNNS\t\t✔\t\tinventories\n",
            "IN\t\tIN\t\t✔\t\tof\n",
            "DT\t\tDT\t\t✔\t\tthe\n",
            "NN\t\tNN\t\t✔\t\tfuel\n",
            ".\t\t.\t\t✔\t\t.\n",
            "NNS\t\tNNPS\t\t✘\t\tgrains\n",
            "CC\t\tNNP\t\t✘\t\tand\n",
            "CD\t\tNNPS\t\t✘\t\tsoybeans\n",
            ":\t\t:\t\t✔\t\t:\n",
            "NNS\t\tNNS\t\t✔\t\tprices\n",
            "VBD\t\tVBD\t\t✔\t\tclosed\n",
            "RB\t\tRB\t\t✔\t\tmostly\n",
            "JJR\t\tJJR\t\t✔\t\thigher\n",
            "IN\t\tIN\t\t✔\t\tin\n",
            "RB\t\tRB\t\t✔\t\trelatively\n",
            "JJ\t\tJJ\t\t✔\t\tlight\n",
            "NN\t\tNN\t\t✔\t\ttrading\n",
            "IN\t\tIN\t\t✔\t\tas\n",
            "JJ\t\tNNS\t\t✘\t\tfarmers\n",
            "VBN\t\tVBD\t\t✘\t\tcontinued\n",
            "TO\t\tTO\t\t✔\t\tto\n",
            "VB\t\tVB\t\t✔\t\twithhold\n",
            "PRP$\t\tPRP$\t\t✔\t\ttheir\n",
            "NN\t\tNNS\t\t✘\t\tcrops\n",
            "IN\t\tIN\t\t✔\t\tfrom\n",
            "DT\t\tDT\t\t✔\t\tthe\n",
            "NN\t\tNN\t\t✔\t\tmarketplace\n",
            "IN\t\tIN\t\t✔\t\tin\n",
            "DT\t\tDT\t\t✔\t\tthe\n",
            "NN\t\tNN\t\t✔\t\thope\n",
            "IN\t\tIN\t\t✔\t\tof\n",
            "JJR\t\tJJR\t\t✔\t\thigher\n",
            "NNS\t\tNNS\t\t✔\t\tprices\n",
            "TO\t\tTO\t\t✔\t\tto\n",
            "VB\t\tVB\t\t✔\t\tcome\n",
            ".\t\t.\t\t✔\t\t.\n",
            "NN\t\tNN\t\t✔\t\ttrading\n",
            "VBD\t\tVBD\t\t✔\t\twas\n",
            "JJ\t\tVBN\t\t✘\t\tmuted\n",
            "IN\t\tIN\t\t✔\t\tin\n",
            "NN\t\tNN\t\t✔\t\tpart\n",
            "IN\t\tIN\t\t✔\t\tbecause\n",
            "IN\t\tIN\t\t✔\t\tof\n",
            "DT\t\tDT\t\t✔\t\tthe\n",
            "NN\t\tNN\t\t✔\t\tobservance\n",
            "IN\t\tIN\t\t✔\t\tof\n",
            "DT\t\tNNP\t\t✘\t\tall\n",
            "NNS\t\tNNP\t\t✘\t\tsaints\n",
            "POS\t\tPOS\t\t✔\t\t'\n",
            "NN\t\tNNP\t\t✘\t\tday\n",
            "IN\t\tIN\t\t✔\t\tacross\n",
            "RB\t\tJJ\t\t✘\t\tmuch\n",
            "IN\t\tIN\t\t✔\t\tof\n",
            "NNP\t\tNNP\t\t✔\t\teurope\n",
            ".\t\t.\t\t✔\t\t.\n",
            "VBD\t\tVBN\t\t✘\t\tcontinued\n",
            "NN\t\tNN\t\t✔\t\texport\n",
            "NN\t\tNN\t\t✔\t\tdemand\n",
            "RB\t\tRB\t\t✔\t\talso\n",
            "VBN\t\tVBD\t\t✘\t\tsupported\n",
            "NNS\t\tNNS\t\t✔\t\tprices\n",
            ".\t\t.\t\t✔\t\t.\n",
            "IN\t\tIN\t\t✔\t\tas\n",
            "DT\t\tDT\t\t✔\t\tan\n",
            "NN\t\tNN\t\t✔\t\tindicator\n",
            "IN\t\tIN\t\t✔\t\tof\n",
            "DT\t\tDT\t\t✔\t\tthe\n",
            "JJ\t\tJJ\t\t✔\t\ttight\n",
            "NN\t\tNN\t\t✔\t\tgrain\n",
            "NN\t\tNN\t\t✔\t\tsupply\n",
            "NN\t\tNN\t\t✔\t\tsituation\n",
            "IN\t\tIN\t\t✔\t\tin\n",
            "DT\t\tDT\t\t✔\t\tthe\n",
            "NNP\t\tNNP\t\t✔\t\tu.s.\n",
            ",\t\t,\t\t✔\t\t,\n",
            "NN\t\tNN\t\t✔\t\tmarket\n",
            "NNS\t\tNNS\t\t✔\t\tanalysts\n",
            "VBD\t\tVBD\t\t✔\t\tsaid\n",
            "IN\t\tIN\t\t✔\t\tthat\n",
            "JJ\t\tJJ\t\t✔\t\tlate\n",
            "NNP\t\tNNP\t\t✔\t\ttuesday\n",
            "DT\t\tDT\t\t✔\t\tthe\n",
            "JJ\t\tJJ\t\t✔\t\tchinese\n",
            "NN\t\tNN\t\t✔\t\tgovernment\n",
            ",\t\t,\t\t✔\t\t,\n",
            "WDT\t\tWDT\t\t✔\t\twhich\n",
            "RB\t\tRB\t\t✔\t\toften\n",
            "VBZ\t\tVBZ\t\t✔\t\tbuys\n",
            "NNP\t\tNNP\t\t✔\t\tu.s.\n",
            "NNS\t\tNNS\t\t✔\t\tgrains\n",
            "IN\t\tIN\t\t✔\t\tin\n",
            "NN\t\tNN\t\t✔\t\tquantity\n",
            ",\t\t,\t\t✔\t\t,\n",
            "VBD\t\tVBD\t\t✔\t\tturned\n",
            "RB\t\tRB\t\t✔\t\tinstead\n",
            "TO\t\tTO\t\t✔\t\tto\n",
            "NNP\t\tNNP\t\t✔\t\tbritain\n",
            "TO\t\tTO\t\t✔\t\tto\n",
            "VB\t\tVB\t\t✔\t\tbuy\n",
            "CD\t\tCD\t\t✔\t\t500,000\n",
            "JJ\t\tJJ\t\t✔\t\tmetric\n",
            "CD\t\tNNS\t\t✘\t\ttons\n",
            "IN\t\tIN\t\t✔\t\tof\n",
            "NN\t\tNN\t\t✔\t\twheat\n",
            ".\t\t.\t\t✔\t\t.\n",
            "NNS\t\tNNS\t\t✔\t\ttraders\n",
            "VBD\t\tVBD\t\t✔\t\tsaid\n",
            "NNS\t\tNNS\t\t✔\t\tprices\n",
            "RB\t\tRB\t\t✔\t\talso\n",
            "VBD\t\tVBD\t\t✔\t\twere\n",
            "VBN\t\tVBN\t\t✔\t\tsupported\n",
            "IN\t\tIN\t\t✔\t\tby\n",
            "JJ\t\tJJ\t\t✔\t\twidespread\n",
            "NN\t\tNNS\t\t✘\t\trumors\n",
            "IN\t\tIN\t\t✔\t\tthat\n",
            "DT\t\tDT\t\t✔\t\tthe\n",
            "NNP\t\tNNP\t\t✔\t\tsoviet\n",
            "NNP\t\tNNP\t\t✔\t\tunion\n",
            "VBZ\t\tVBZ\t\t✔\t\tis\n",
            "IN\t\tIN\t\t✔\t\ton\n",
            "DT\t\tDT\t\t✔\t\tthe\n",
            "VBG\t\tNN\t\t✘\t\tverge\n",
            "IN\t\tIN\t\t✔\t\tof\n",
            "VBG\t\tVBG\t\t✔\t\treceiving\n",
            "RBS\t\tRBS\t\t✔\t\tmost\n",
            "JJ\t\tJJ\t\t✔\t\tfavored\n",
            "NN\t\tNN\t\t✔\t\tnation\n",
            "NN\t\tNN\t\t✔\t\tstatus\n",
            "IN\t\tIN\t\t✔\t\tfrom\n",
            "DT\t\tDT\t\t✔\t\tthe\n",
            "NNP\t\tNNP\t\t✔\t\tu.s.\n",
            ".\t\t.\t\t✔\t\t.\n",
            "DT\t\tDT\t\t✔\t\tthat\n",
            "NN\t\tNN\t\t✔\t\tdesignation\n",
            "MD\t\tMD\t\t✔\t\twould\n",
            ",\t\t,\t\t✔\t\t,\n",
            "IN\t\tIN\t\t✔\t\tamong\n",
            "JJ\t\tJJ\t\t✔\t\tother\n",
            "NNS\t\tNNS\t\t✔\t\tthings\n",
            ",\t\t,\t\t✔\t\t,\n",
            "VBP\t\tVB\t\t✘\t\tprovide\n",
            "RBR\t\tRBR\t\t✔\t\tmore\n",
            "JJ\t\tJJ\t\t✔\t\tgenerous\n",
            "NN\t\tNN\t\t✔\t\tcredit\n",
            "NNS\t\tNNS\t\t✔\t\tterms\n",
            "IN\t\tIN\t\t✔\t\tunder\n",
            "WDT\t\tWDT\t\t✔\t\twhich\n",
            "DT\t\tDT\t\t✔\t\tthe\n",
            "NNS\t\tNNPS\t\t✘\t\tsoviets\n",
            "MD\t\tMD\t\t✔\t\tcould\n",
            "VB\t\tVB\t\t✔\t\tpurchase\n",
            "NN\t\tNN\t\t✔\t\tgrain\n",
            ".\t\t.\t\t✔\t\t.\n",
            "DT\t\tDT\t\t✔\t\tthe\n",
            "NNS\t\tNNPS\t\t✘\t\tsoviets\n",
            "VBP\t\tVBP\t\t✔\t\tare\n",
            "RB\t\tRB\t\t✔\t\twidely\n",
            "VBN\t\tVBN\t\t✔\t\tbelieved\n",
            "TO\t\tTO\t\t✔\t\tto\n",
            "VB\t\tVB\t\t✔\t\tneed\n",
            "JJ\t\tJJ\t\t✔\t\tadditional\n",
            "NNS\t\tNNS\t\t✔\t\tsupplies\n",
            ",\t\t,\t\t✔\t\t,\n",
            "IN\t\tIN\t\t✔\t\tdespite\n",
            "VBG\t\tVBG\t\t✔\t\trunning\n",
            "RP\t\tRP\t\t✔\t\tup\n",
            "JJ\t\tJJ\t\t✔\t\trecord\n",
            "JJ\t\tJJ\t\t✔\t\tone-month\n",
            "NNS\t\tNNS\t\t✔\t\tpurchases\n",
            "IN\t\tIN\t\t✔\t\tof\n",
            "CD\t\tCD\t\t✔\t\t310\n",
            "CD\t\tCD\t\t✔\t\tmillion\n",
            "CD\t\tNNS\t\t✘\t\tbushels\n",
            "IN\t\tIN\t\t✔\t\tof\n",
            "NN\t\tNN\t\t✔\t\tcorn\n",
            "IN\t\tIN\t\t✔\t\tin\n",
            "NNP\t\tNNP\t\t✔\t\toctober\n",
            ".\t\t.\t\t✔\t\t.\n",
            "NN\t\tNNP\t\t✘\t\tcopper\n",
            ":\t\t:\t\t✔\t\t:\n",
            "NNS\t\tNNS\t\t✔\t\tfutures\n",
            "NNS\t\tNNS\t\t✔\t\tprices\n",
            "VBD\t\tVBD\t\t✔\t\trose\n",
            ",\t\t,\t\t✔\t\t,\n",
            "VBG\t\tVBG\t\t✔\t\textending\n",
            "NNP\t\tNNP\t\t✔\t\ttuesday\n",
            "POS\t\tPOS\t\t✔\t\t's\n",
            "NNS\t\tNNS\t\t✔\t\tgains\n",
            ".\t\t.\t\t✔\t\t.\n",
            "DT\t\tDT\t\t✔\t\tthe\n",
            "NNP\t\tNNP\t\t✔\t\tdecember\n",
            "NN\t\tNN\t\t✔\t\tcontract\n",
            "JJ\t\tVBD\t\t✘\t\tadvanced\n",
            "CD\t\tCD\t\t✔\t\t2.50\n",
            "NNS\t\tNNS\t\t✔\t\tcents\n",
            "DT\t\tDT\t\t✔\t\ta\n",
            "NN\t\tNN\t\t✔\t\tpound\n",
            "TO\t\tTO\t\t✔\t\tto\n",
            "$\t\t$\t\t✔\t\t$\n",
            "NNS\t\tCD\t\t✘\t\t1.1650\n",
            ".\t\t.\t\t✔\t\t.\n",
            "VBG\t\tVBG\t\t✔\t\tbuying\n",
            "IN\t\tIN\t\t✔\t\tfor\n",
            "DT\t\tDT\t\t✔\t\tthe\n",
            "JJS\t\tJJS\t\t✔\t\tmost\n",
            "NN\t\tNN\t\t✔\t\tpart\n",
            "VBN\t\tVBD\t\t✘\t\tcarried\n",
            "IN\t\tRP\t\t✘\t\tover\n",
            "IN\t\tIN\t\t✔\t\tfrom\n",
            "DT\t\tDT\t\t✔\t\tthe\n",
            "JJ\t\tJJ\t\t✔\t\tprevious\n",
            "NN\t\tNN\t\t✔\t\tsession\n",
            ",\t\t,\t\t✔\t\t,\n",
            "CC\t\tCC\t\t✔\t\tand\n",
            "NNS\t\tNNS\t\t✔\t\ttraders\n",
            "RB\t\tRB\t\t✔\t\tapparently\n",
            "VBN\t\tVBD\t\t✘\t\tignored\n",
            "NNS\t\tNNS\t\t✔\t\treports\n",
            "IN\t\tIN\t\t✔\t\tthat\n",
            "DT\t\tDT\t\t✔\t\ta\n",
            "JJ\t\tJJ\t\t✔\t\tchilean\n",
            "NN\t\tJJ\t\t✘\t\tmine\n",
            "NN\t\tNN\t\t✔\t\tstrike\n",
            "MD\t\tMD\t\t✔\t\tmay\n",
            "VB\t\tVB\t\t✔\t\thave\n",
            "VBN\t\tVBN\t\t✔\t\tended\n",
            "RB\t\tRB\t\t✔\t\talmost\n",
            "IN\t\tIN\t\t✔\t\tbefore\n",
            "PRP\t\tPRP\t\t✔\t\tit\n",
            "VBD\t\tVBD\t\t✔\t\tbegan\n",
            ",\t\t,\t\t✔\t\t,\n",
            "DT\t\tDT\t\t✔\t\tan\n",
            "NN\t\tNN\t\t✔\t\tanalyst\n",
            "VBD\t\tVBD\t\t✔\t\tsaid\n",
            ".\t\t.\t\t✔\t\t.\n",
            "VBG\t\tVBG\t\t✔\t\taccording\n",
            "TO\t\tTO\t\t✔\t\tto\n",
            "NNP\t\tNN\t\t✘\t\tnews\n",
            "NN\t\tNN\t\t✔\t\tservice\n",
            "NNS\t\tNNS\t\t✔\t\treports\n",
            ",\t\t,\t\t✔\t\t,\n",
            "JJS\t\tJJS\t\t✔\t\tmost\n",
            "NNS\t\tNNS\t\t✔\t\tworkers\n",
            "IN\t\tIN\t\t✔\t\tat\n",
            "DT\t\tDT\t\t✔\t\tthe\n",
            "JJ\t\tNNP\t\t✘\t\tdisputado\n",
            "NNS\t\tNNS\t\t✔\t\tmines\n",
            "VBN\t\tVBN\t\t✔\t\towned\n",
            "IN\t\tIN\t\t✔\t\tby\n",
            "NNP\t\tNNP\t\t✔\t\texxon\n",
            "NNP\t\tNNP\t\t✔\t\tcorp.\n",
            "VBD\t\tVBD\t\t✔\t\tagreed\n",
            "TO\t\tTO\t\t✔\t\tto\n",
            "DT\t\tDT\t\t✔\t\ta\n",
            "JJ\t\tJJ\t\t✔\t\tnew\n",
            "JJ\t\tJJ\t\t✔\t\ttwo-year\n",
            "NN\t\tNN\t\t✔\t\twage\n",
            "NN\t\tNN\t\t✔\t\tcontract\n",
            "WDT\t\tWDT\t\t✔\t\tthat\n",
            "VBZ\t\tVBZ\t\t✔\t\tincludes\n",
            "DT\t\tDT\t\t✔\t\ta\n",
            "CD\t\tCD\t\t✔\t\t5\n",
            "NN\t\tNN\t\t✔\t\t%\n",
            "NN\t\tNN\t\t✔\t\tincrease\n",
            "CC\t\tCC\t\t✔\t\tand\n",
            "JJ\t\tJJ\t\t✔\t\tother\n",
            "NNS\t\tNNS\t\t✔\t\tbenefits\n",
            ".\t\t.\t\t✔\t\t.\n",
            "RB\t\tRB\t\t✔\t\thowever\n",
            ",\t\t,\t\t✔\t\t,\n",
            "DT\t\tDT\t\t✔\t\tsome\n",
            "NNS\t\tNNS\t\t✔\t\tworkers\n",
            "VBP\t\tVBP\t\t✔\t\thave\n",
            "RB\t\tRB\t\t✔\t\tn't\n",
            "RB\t\tRB\t\t✔\t\tyet\n",
            "VBN\t\tVBN\t\t✔\t\taccepted\n",
            "DT\t\tDT\t\t✔\t\tthe\n",
            "JJ\t\tJJ\t\t✔\t\tnew\n",
            "NN\t\tNN\t\t✔\t\tcontract\n",
            "CC\t\tCC\t\t✔\t\tand\n",
            "VBP\t\tVBP\t\t✔\t\tare\n",
            "VBG\t\tVBG\t\t✔\t\tcontinuing\n",
            "NNS\t\tNNS\t\t✔\t\tnegotiations\n",
            ",\t\t,\t\t✔\t\t,\n",
            "DT\t\tDT\t\t✔\t\tthe\n",
            "NN\t\tNN\t\t✔\t\tanalyst\n",
            "VBD\t\tVBD\t\t✔\t\tsaid\n",
            ".\t\t.\t\t✔\t\t.\n",
            "NNP\t\tRB\t\t✘\t\tseparately\n",
            ",\t\t,\t\t✔\t\t,\n",
            "NNP\t\tNNP\t\t✔\t\treuter\n",
            "VBD\t\tVBD\t\t✔\t\treported\n",
            "IN\t\tIN\t\t✔\t\tthat\n",
            "DT\t\tDT\t\t✔\t\tthe\n",
            "NNP\t\tNNP\t\t✔\t\tpapua-new\n",
            "NNP\t\tNNP\t\t✔\t\tguinea\n",
            "NN\t\tNN\t\t✔\t\tgovernment\n",
            "VBD\t\tVBD\t\t✔\t\turged\n",
            "PRP$\t\tPRP$\t\t✔\t\tits\n",
            "NN\t\tNNP\t\t✘\t\tparliament\n",
            "TO\t\tTO\t\t✔\t\tto\n",
            "VB\t\tVB\t\t✔\t\textend\n",
            "DT\t\tDT\t\t✔\t\ta\n",
            "NN\t\tNN\t\t✔\t\tstate\n",
            "IN\t\tIN\t\t✔\t\tof\n",
            "NNP\t\tNN\t\t✘\t\temergency\n",
            "IN\t\tIN\t\t✔\t\tin\n",
            "NNP\t\tJJ\t\t✘\t\tcopper-rich\n",
            "NNP\t\tNNP\t\t✔\t\tbougainville\n",
            "NNP\t\tNNP\t\t✔\t\tisland\n",
            "IN\t\tIN\t\t✔\t\tfor\n",
            "CD\t\tCD\t\t✔\t\ttwo\n",
            "NNS\t\tNNS\t\t✔\t\tmonths\n",
            ".\t\t.\t\t✔\t\t.\n",
            "DT\t\tDT\t\t✔\t\tthe\n",
            "NNP\t\tNNP\t\t✔\t\tbougainville\n",
            "NN\t\tNN\t\t✔\t\tcopper\n",
            "NN\t\tNN\t\t✔\t\tmine\n",
            "VBZ\t\tVBZ\t\t✔\t\thas\n",
            "VBN\t\tVBN\t\t✔\t\tbeen\n",
            "VBN\t\tJJ\t\t✘\t\tinoperative\n",
            "IN\t\tIN\t\t✔\t\tsince\n",
            "MD\t\tNNP\t\t✘\t\tmay\n",
            "CD\t\tCD\t\t✔\t\t15\n",
            "IN\t\tIN\t\t✔\t\tbecause\n",
            "IN\t\tIN\t\t✔\t\tof\n",
            "NNS\t\tNNS\t\t✔\t\tattacks\n",
            "IN\t\tIN\t\t✔\t\tby\n",
            "JJ\t\tJJ\t\t✔\t\tnative\n",
            "NNS\t\tNNS\t\t✔\t\tlandowners\n",
            "WP\t\tWP\t\t✔\t\twho\n",
            "VBP\t\tVBP\t\t✔\t\twant\n",
            "VBN\t\tNNP\t\t✘\t\tbougainville\n",
            "TO\t\tTO\t\t✔\t\tto\n",
            "VB\t\tVB\t\t✔\t\tsecede\n",
            "IN\t\tIN\t\t✔\t\tfrom\n",
            "NNP\t\tNNP\t\t✔\t\tpapua-new\n",
            "NNP\t\tNNP\t\t✔\t\tguinea\n",
            ".\t\t.\t\t✔\t\t.\n"
          ],
          "name": "stdout"
        }
      ]
    },
    {
      "cell_type": "markdown",
      "metadata": {
        "id": "J2vr-B9R6tPF"
      },
      "source": [
        "From this simple inference example, we can see that most of the predictions are correct but in some cases the model misses the true tag. To have a better visualization of the errors, we have computed and plotted also the confusion matrix"
      ]
    },
    {
      "cell_type": "markdown",
      "metadata": {
        "id": "FSyScJvJ-_2g"
      },
      "source": [
        "##Confusion Matrix"
      ]
    },
    {
      "cell_type": "code",
      "metadata": {
        "id": "oOXBGayi7iPl"
      },
      "source": [
        "def plot_confusion_matrix(cm, classes, normalize=False, title=\"Confusion matrix\", cmap=plt.cm.Blues):\n",
        "  if normalize:\n",
        "    cm = cm.astype(\"float\") / cm.sum(axis=1)[:, np.newaxis]\n",
        "    print(\"Normalized confusion matrix\")\n",
        "  else:\n",
        "    print(\"Confusion matrix, without normalization\")\n",
        "\n",
        "  plt.imshow(cm, interpolation=\"nearest\", cmap=cmap)\n",
        "  plt.title(title)\n",
        "  plt.colorbar()\n",
        "  tick_marks = np.arange(len(classes))\n",
        "  plt.xticks(tick_marks, classes, rotation=45)\n",
        "  plt.yticks(tick_marks, classes)\n",
        "\n",
        "  fmt = \".2f\" if normalize else \"d\"\n",
        "  thresh = cm.max() / 2.\n",
        "  for i, j in itertools.product(range(cm.shape[0]), range(cm.shape[1])):\n",
        "      plt.text(j, i, format(cm[i, j], fmt), horizontalalignment=\"center\", color=\"white\" if cm[i, j] > thresh else \"black\")\n",
        "\n",
        "  plt.tight_layout()\n",
        "  plt.ylabel(\"True label\")\n",
        "  plt.xlabel(\"Predicted label\")"
      ],
      "execution_count": 491,
      "outputs": []
    },
    {
      "cell_type": "code",
      "metadata": {
        "id": "ps_PpPUf5zTU",
        "colab": {
          "base_uri": "https://localhost:8080/",
          "height": 1000
        },
        "outputId": "fefabdf7-d5d1-415d-fede-964bd140599c"
      },
      "source": [
        "from sklearn.metrics import confusion_matrix\n",
        "\n",
        "tags_list = [TB_TAGS.vocab.itos[i] for i in tags_index]\n",
        "\n",
        "confusion_matrix = confusion_matrix(y_true, y_pred, labels = tags_index)\n",
        "\n",
        "plt.figure(figsize=(20,20))\n",
        "plot_confusion_matrix(confusion_matrix, tags_list, normalize=True)\n"
      ],
      "execution_count": 492,
      "outputs": [
        {
          "output_type": "stream",
          "text": [
            "Normalized confusion matrix\n"
          ],
          "name": "stdout"
        },
        {
          "output_type": "stream",
          "text": [
            "/usr/local/lib/python3.6/dist-packages/ipykernel_launcher.py:3: RuntimeWarning: invalid value encountered in true_divide\n",
            "  This is separate from the ipykernel package so we can avoid doing imports until\n"
          ],
          "name": "stderr"
        },
        {
          "output_type": "display_data",
          "data": {
            "image/png": "[encoded data removed]",
            "text/plain": [
              "<Figure size 1440x1440 with 2 Axes>"
            ]
          },
          "metadata": {
            "tags": [],
            "needs_background": "light"
          }
        }
      ]
    },
    {
      "cell_type": "markdown",
      "metadata": {
        "id": "Q9qaOsbwBqQO"
      },
      "source": [
        "##Classification Report"
      ]
    },
    {
      "cell_type": "code",
      "metadata": {
        "id": "918hbGHFB0IS",
        "colab": {
          "base_uri": "https://localhost:8080/"
        },
        "outputId": "77b203b6-49e0-428a-b932-16219500975f"
      },
      "source": [
        "from sklearn.metrics import classification_report\n",
        "report = classification_report(y_true, y_pred, labels=tags_index, zero_division=0)\n",
        "print(report)"
      ],
      "execution_count": 493,
      "outputs": [
        {
          "output_type": "stream",
          "text": [
            "              precision    recall  f1-score   support\n",
            "\n",
            "           1       0.92      0.89      0.91      2383\n",
            "           2       0.02      0.88      0.04      1504\n",
            "           3       0.99      0.97      0.98      1630\n",
            "           4       0.99      0.99      0.99      1335\n",
            "           5       0.91      0.92      0.91       941\n",
            "           6       0.82      0.86      0.84       918\n",
            "           9       0.93      0.92      0.93       634\n",
            "          10       0.88      0.91      0.89       381\n",
            "          11       0.96      0.94      0.95       858\n",
            "          12       0.92      0.97      0.94       403\n",
            "          13       0.99      1.00      0.99       366\n",
            "          14       0.96      0.96      0.96       280\n",
            "          15       0.83      0.83      0.83       366\n",
            "          16       1.00      1.00      1.00       386\n",
            "          17       1.00      0.99      1.00       192\n",
            "          18       0.87      0.88      0.88       221\n",
            "          19       0.85      0.87      0.86       134\n",
            "          20       0.97      1.00      0.98       167\n",
            "          21       1.00      1.00      1.00        99\n",
            "          23       0.99      0.99      0.99       152\n",
            "          27       0.93      1.00      0.97        84\n",
            "          28       0.73      0.88      0.80        59\n",
            "          29       1.00      1.00      1.00        20\n",
            "          30       0.54      0.76      0.63        33\n",
            "          31       0.46      0.25      0.32        44\n",
            "          32       1.00      0.84      0.91        31\n",
            "          33       1.00      0.96      0.98        24\n",
            "          34       0.57      0.27      0.36        15\n",
            "          37       0.83      1.00      0.91         5\n",
            "          38       0.43      1.00      0.60         3\n",
            "          39       0.00      0.00      0.00         0\n",
            "          40       0.00      0.00      0.00         4\n",
            "          41       1.00      1.00      1.00         4\n",
            "          42       0.00      0.00      0.00         0\n",
            "          45       0.00      0.00      0.00         0\n",
            "\n",
            "   micro avg       0.18      0.92      0.30     13676\n",
            "   macro avg       0.75      0.79      0.75     13676\n",
            "weighted avg       0.83      0.92      0.83     13676\n",
            "\n"
          ],
          "name": "stdout"
        }
      ]
    },
    {
      "cell_type": "markdown",
      "metadata": {
        "id": "SyPDNB56UhmM"
      },
      "source": [
        "# Credits\n",
        "\n",
        "Alex Rossi: alex.rossi6@studio.unibo.it\n",
        "\n",
        "Simone Gayed Said: simone.gayed@studio.unibo.it\n"
      ]
    },
    {
      "cell_type": "code",
      "metadata": {
        "id": "SCJ5a_TWdEXZ"
      },
      "source": [
        ""
      ],
      "execution_count": 493,
      "outputs": []
    }
  ]
}